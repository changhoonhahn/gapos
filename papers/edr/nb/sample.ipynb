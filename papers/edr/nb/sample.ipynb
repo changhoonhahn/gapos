{
 "cells": [
  {
   "cell_type": "markdown",
   "id": "d4289278-6857-434c-ac65-082d70aa00ed",
   "metadata": {},
   "source": [
    "# sample selection \n",
    "Notebook that goes through the One-Percent Survey sample selection"
   ]
  },
  {
   "cell_type": "code",
   "execution_count": 1,
   "id": "ae92e0e5-41b1-4bc3-aaf6-94c8a739eb52",
   "metadata": {},
   "outputs": [],
   "source": [
    "import os\n",
    "import h5py\n",
    "import fitsio\n",
    "import numpy as np\n",
    "from tqdm import tqdm\n",
    "import astropy.table as aTable"
   ]
  },
  {
   "cell_type": "code",
   "execution_count": 2,
   "id": "5a484cf6-b0a5-4634-b6c8-e04bac79786c",
   "metadata": {},
   "outputs": [],
   "source": [
    "from desitarget.sv3.sv3_targetmask import bgs_mask as sv3_bgs_mask"
   ]
  },
  {
   "cell_type": "code",
   "execution_count": 6,
   "id": "7675ff32-e95f-47f4-bd4b-be5f7c42a671",
   "metadata": {},
   "outputs": [],
   "source": [
    "# target and redrcok outputs joined (see https://desi.lbl.gov/trac/wiki/ClusteringWG/LSScat/SV3/current_version)\n",
    "#ff = fitsio.read('/global/cfs/cdirs/desi/survey/catalogs/SV3/LSS/fuji/datcomb_bright_tarspecwdup_Alltiles.fits')\n",
    "ff = fitsio.read('/global/cfs/cdirs/desi/survey/catalogs/SV3/LSS/fuji/LSScats/EDAbeta/BGS_ANY_full.dat.fits')"
   ]
  },
  {
   "cell_type": "code",
   "execution_count": 12,
   "id": "7d8f6c55-1957-4be4-816c-c550d89cf25d",
   "metadata": {},
   "outputs": [],
   "source": [
    "is_bgs_bright = ((ff['SV3_BGS_TARGET'] & sv3_bgs_mask['BGS_BRIGHT']) != 0)\n",
    "is_bgs_faint = ((ff['SV3_BGS_TARGET'] & sv3_bgs_mask['BGS_FAINT']) != 0)"
   ]
  },
  {
   "cell_type": "code",
   "execution_count": 13,
   "id": "fe7e9185-16ab-4f0a-94a4-eaa3fc871a6d",
   "metadata": {},
   "outputs": [
    {
     "name": "stdout",
     "output_type": "stream",
     "text": [
      "BGS_ANY 264973\n",
      "BGS_BRIGHT 155022\n",
      "BGS_FAINT 109418\n"
     ]
    }
   ],
   "source": [
    "print('BGS_ANY %i' % len(ff))\n",
    "print('BGS_BRIGHT %i' % np.sum(is_bgs_bright))\n",
    "print('BGS_FAINT %i' % np.sum(is_bgs_faint))"
   ]
  },
  {
   "cell_type": "code",
   "execution_count": 14,
   "id": "06991dd0-4791-4edf-af12-7e52e35db314",
   "metadata": {},
   "outputs": [
    {
     "name": "stdout",
     "output_type": "stream",
     "text": [
      "143074 BGS BRIGHT z-success\n",
      "96771 BGS FAINT z-success\n"
     ]
    }
   ],
   "source": [
    "# select only BGS targets\n",
    "is_bgs_bright = (\n",
    "    (ff['COADD_FIBERSTATUS'] == 0) & \n",
    "    ((ff['SV3_BGS_TARGET'] & sv3_bgs_mask['BGS_BRIGHT']) != 0) & \n",
    "    (ff['SPECTYPE'] == 'GALAXY') & \n",
    "    (ff['Z_HP'] > 0.) & (ff['Z_HP'] < 0.6) & \n",
    "    (ff['ZWARN'] == 0) & \n",
    "    (ff['DELTACHI2'] > 40.) & \n",
    "    (ff['ZERR'] < 0.0005 * (1 + ff['Z_HP'])))\n",
    "\n",
    "is_bgs_faint = (\n",
    "    (ff['COADD_FIBERSTATUS'] == 0) & \n",
    "    ((ff['SV3_BGS_TARGET'] & sv3_bgs_mask['BGS_FAINT']) != 0) & \n",
    "    (ff['SPECTYPE'] == 'GALAXY') & \n",
    "    (ff['Z_HP'] > 0.) & (ff['Z_HP'] < 0.6) & \n",
    "    (ff['ZWARN'] == 0) & \n",
    "    (ff['DELTACHI2'] > 40.) & \n",
    "    (ff['ZERR'] < 0.0005 * (1 + ff['Z_HP'])))\n",
    "\n",
    "print('%i BGS BRIGHT z-success' % np.sum(is_bgs_bright))\n",
    "print('%i BGS FAINT z-success' % np.sum(is_bgs_faint))"
   ]
  },
  {
   "cell_type": "code",
   "execution_count": null,
   "id": "1f7a02e2-f72b-46b3-9a97-5f0b2255ec66",
   "metadata": {},
   "outputs": [],
   "source": []
  }
 ],
 "metadata": {
  "kernelspec": {
   "display_name": "gqp",
   "language": "python",
   "name": "gqp"
  },
  "language_info": {
   "codemirror_mode": {
    "name": "ipython",
    "version": 3
   },
   "file_extension": ".py",
   "mimetype": "text/x-python",
   "name": "python",
   "nbconvert_exporter": "python",
   "pygments_lexer": "ipython3",
   "version": "3.7.12"
  }
 },
 "nbformat": 4,
 "nbformat_minor": 5
}
