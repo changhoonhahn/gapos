{
 "cells": [
  {
   "cell_type": "markdown",
   "id": "a4423297-7c6a-415b-b3d9-e30fa09a80a4",
   "metadata": {},
   "source": [
    "$$\\log p(\\phi | \\{x_i\\}) \\approx \\prod\\limits_{i=1}^N \\frac{1}{S_i} \\sum\\limits_{j=1}^{S_i} p(\\theta_{ij} | \\phi)$$\n",
    "\n",
    "For normalizing flows \n",
    "$$p(\\theta_{ij} | \\phi) = q_\\phi(\\theta_{ij})$$\n",
    "\n",
    "Then a MAP solution for $\\phi$ can be obtained by maximizing $\\log p(\\phi | \\{ x_i \\})$, which is equivalent to maximizing\n",
    "$$\\sum_{i=1}^N \\log \\sum\\limits_{j=1}^S q_\\phi(\\theta_{ij})$$\n"
   ]
  },
  {
   "cell_type": "code",
   "execution_count": 1,
   "id": "dae0cfff-d41c-40c8-ba76-a7b9652df31c",
   "metadata": {},
   "outputs": [],
   "source": [
    "import os\n",
    "import h5py \n",
    "import numpy as np\n",
    "import fitsio\n",
    "from tqdm.auto import trange\n",
    "import astropy.table as aTable\n",
    "from astropy.cosmology import Planck13"
   ]
  },
  {
   "cell_type": "code",
   "execution_count": 2,
   "id": "0ce04eb8-8555-410e-b933-bfa1a79d1007",
   "metadata": {},
   "outputs": [],
   "source": [
    "import copy\n",
    "#from nflows import transforms, distributions, flows\n",
    "import torch\n",
    "from torch import nn\n",
    "from torch import optim\n",
    "import torch.distributions as D"
   ]
  },
  {
   "cell_type": "code",
   "execution_count": 3,
   "id": "c06eb997-3dfa-45b7-8a3e-b5d742013277",
   "metadata": {},
   "outputs": [],
   "source": [
    "# -- plotting -- \n",
    "import matplotlib as mpl\n",
    "import matplotlib.pyplot as plt\n",
    "mpl.rcParams['text.usetex'] = True\n",
    "mpl.rcParams['font.family'] = 'serif'\n",
    "mpl.rcParams['axes.linewidth'] = 1.5\n",
    "mpl.rcParams['axes.xmargin'] = 1\n",
    "mpl.rcParams['xtick.labelsize'] = 'x-large'\n",
    "mpl.rcParams['xtick.major.size'] = 5\n",
    "mpl.rcParams['xtick.major.width'] = 1.5\n",
    "mpl.rcParams['ytick.labelsize'] = 'x-large'\n",
    "mpl.rcParams['ytick.major.size'] = 5\n",
    "mpl.rcParams['ytick.major.width'] = 1.5\n",
    "mpl.rcParams['legend.frameon'] = False"
   ]
  },
  {
   "cell_type": "code",
   "execution_count": 4,
   "id": "efd90248-edb2-48ac-89be-283b9fdfef30",
   "metadata": {},
   "outputs": [],
   "source": [
    "dat_dir = '/tigress/chhahn/provabgs/svda'"
   ]
  },
  {
   "cell_type": "code",
   "execution_count": 5,
   "id": "3c351bf1-3eee-4848-8fb8-cdc70d153997",
   "metadata": {},
   "outputs": [],
   "source": [
    "if torch.cuda.is_available(): \n",
    "    device = torch.device(type='cuda', index=0)\n",
    "else: \n",
    "    device = 'cpu'"
   ]
  },
  {
   "cell_type": "markdown",
   "id": "5a11b7bd-a54d-471f-9069-e11951977292",
   "metadata": {},
   "source": [
    "# compile $M_*$ posteriors"
   ]
  },
  {
   "cell_type": "code",
   "execution_count": 6,
   "id": "ea147835",
   "metadata": {},
   "outputs": [],
   "source": [
    "bgs = aTable.Table.read(os.path.join(dat_dir, 'BGS_ANY_full.provabgs.hdf5'))"
   ]
  },
  {
   "cell_type": "code",
   "execution_count": 7,
   "id": "7f5aa016",
   "metadata": {},
   "outputs": [
    {
     "data": {
      "text/html": [
       "<i>Table length=5</i>\n",
       "<table id=\"table22431657355536\" class=\"table-striped table-bordered table-condensed\">\n",
       "<thead><tr><th>TARGETID</th><th>RA</th><th>DEC</th><th>Z_HP</th><th>ZERR</th><th>TSNR2_BGS</th><th>MAG_G</th><th>MAG_R</th><th>MAG_Z</th><th>MAG_W1</th><th>FIBMAG_R</th><th>HPIX_64</th><th>provabgs_mcmc [100,13]</th><th>provabgs_theta_bf [13]</th><th>provabgs_z_max</th><th>provabgs_logMstar_bf</th><th>provabgs_logMstar [100]</th><th>SCHLEGEL_COLOR</th><th>provabgs_w_zfail</th><th>provabgs_w_fibassign</th><th>is_bgs_bright</th><th>is_bgs_faint</th></tr></thead>\n",
       "<thead><tr><th>int64</th><th>float64</th><th>float64</th><th>float64</th><th>float64</th><th>float32</th><th>float64</th><th>float64</th><th>float64</th><th>float64</th><th>float64</th><th>int64</th><th>float64</th><th>float64</th><th>float64</th><th>float64</th><th>float64</th><th>float64</th><th>float64</th><th>float64</th><th>bool</th><th>bool</th></tr></thead>\n",
       "<tr><td>39633390185481181</td><td>191.17913199949842</td><td>60.25733587654764</td><td>0.2004070714061304</td><td>nan</td><td>0.0</td><td>-999.0</td><td>-999.0</td><td>-999.0</td><td>-999.0</td><td>-999.0</td><td>-999</td><td>-999.0 .. -999.0</td><td>-999.0 .. -999.0</td><td>-999.0</td><td>-999.0</td><td>-999.0 .. -999.0</td><td>-999.0</td><td>-999.0</td><td>129.0</td><td>False</td><td>False</td></tr>\n",
       "<tr><td>39633390164510024</td><td>188.6998080571996</td><td>60.21175772175424</td><td>0.2004070714061304</td><td>nan</td><td>0.0</td><td>-999.0</td><td>-999.0</td><td>-999.0</td><td>-999.0</td><td>-999.0</td><td>-999</td><td>-999.0 .. -999.0</td><td>-999.0 .. -999.0</td><td>-999.0</td><td>-999.0</td><td>-999.0 .. -999.0</td><td>-999.0</td><td>-999.0</td><td>3.225</td><td>False</td><td>False</td></tr>\n",
       "<tr><td>39633390185480955</td><td>191.14955067198017</td><td>60.34047183206205</td><td>0.2004070714061304</td><td>nan</td><td>0.0</td><td>-999.0</td><td>-999.0</td><td>-999.0</td><td>-999.0</td><td>-999.0</td><td>-999</td><td>-999.0 .. -999.0</td><td>-999.0 .. -999.0</td><td>-999.0</td><td>-999.0</td><td>-999.0 .. -999.0</td><td>-999.0</td><td>-999.0</td><td>129.0</td><td>False</td><td>False</td></tr>\n",
       "<tr><td>39633390185480938</td><td>191.14757099005186</td><td>60.345815959235</td><td>0.2819459922463374</td><td>2.191690764397e-05</td><td>1361.7778</td><td>20.420939956138607</td><td>19.440977833152942</td><td>18.807486906915823</td><td>18.725561063547207</td><td>21.083244145949642</td><td>11226</td><td>11.091623656909688 .. 0.3684622521221414</td><td>11.14249424405227 .. 0.3651476796540595</td><td>0.2891440449335749</td><td>10.894820213317871</td><td>10.848259925842285 .. 10.952618598937988</td><td>0.1059712957858181</td><td>1.0369954283580962</td><td>3.0714285714285716</td><td>True</td><td>False</td></tr>\n",
       "<tr><td>39633416324383107</td><td>187.05117249536465</td><td>62.614542270156655</td><td>0.2703579310142208</td><td>0.00018002802349298926</td><td>1218.0295</td><td>20.876585604498494</td><td>19.373871860075226</td><td>18.567397256862876</td><td>18.32574859422363</td><td>20.212708263179056</td><td>11251</td><td>11.127879812361321 .. 0.6691898790548064</td><td>11.16028636319183 .. 0.6710591095679554</td><td>0.2822033708476234</td><td>10.909546852111816</td><td>10.877055168151855 .. 10.874772071838379</td><td>-0.3616078306686752</td><td>1.0018031916676053</td><td>1.0</td><td>True</td><td>False</td></tr>\n",
       "</table>"
      ],
      "text/plain": [
       "<Table length=5>\n",
       "     TARGETID             RA         ... is_bgs_bright is_bgs_faint\n",
       "      int64            float64       ...      bool         bool    \n",
       "----------------- ------------------ ... ------------- ------------\n",
       "39633390185481181 191.17913199949842 ...         False        False\n",
       "39633390164510024  188.6998080571996 ...         False        False\n",
       "39633390185480955 191.14955067198017 ...         False        False\n",
       "39633390185480938 191.14757099005186 ...          True        False\n",
       "39633416324383107 187.05117249536465 ...          True        False"
      ]
     },
     "execution_count": 7,
     "metadata": {},
     "output_type": "execute_result"
    }
   ],
   "source": [
    "bgs[:5]"
   ]
  },
  {
   "cell_type": "code",
   "execution_count": 8,
   "id": "978b7afb",
   "metadata": {},
   "outputs": [],
   "source": [
    "has_posterior = (bgs['provabgs_z_max'].data != -999.)\n",
    "is_bgs_bright = bgs['is_bgs_bright']\n",
    "is_bgs_faint = bgs['is_bgs_faint']"
   ]
  },
  {
   "cell_type": "code",
   "execution_count": 9,
   "id": "8775fb18",
   "metadata": {},
   "outputs": [
    {
     "name": "stdout",
     "output_type": "stream",
     "text": [
      "143017 BGS Bright galaxies with posteriors\n"
     ]
    }
   ],
   "source": [
    "bgs = bgs[has_posterior & is_bgs_bright]\n",
    "print('%i BGS Bright galaxies with posteriors' % len(bgs))"
   ]
  },
  {
   "cell_type": "markdown",
   "id": "4c56217f",
   "metadata": {},
   "source": [
    "# calculate $V_{\\rm max}$ with *Planck (2013)* cosmology"
   ]
  },
  {
   "cell_type": "code",
   "execution_count": 10,
   "id": "70f59d3a",
   "metadata": {},
   "outputs": [],
   "source": [
    "f_area = (173.641/(4.*np.pi*(180/np.pi)**2))\n",
    "bgs['Vmax'] = Planck13.comoving_volume(bgs['provabgs_z_max'].data).value * Planck13.h**3 * f_area # (Mpc/h)^3"
   ]
  },
  {
   "cell_type": "code",
   "execution_count": 11,
   "id": "9c3b38e5",
   "metadata": {},
   "outputs": [
    {
     "data": {
      "text/plain": [
       "(6.0, 13.0)"
      ]
     },
     "execution_count": 11,
     "metadata": {},
     "output_type": "execute_result"
    },
    {
     "data": {
      "image/png": "[encoded data removed]",
      "text/plain": [
       "<Figure size 576x432 with 1 Axes>"
      ]
     },
     "metadata": {
      "needs_background": "light"
     },
     "output_type": "display_data"
    }
   ],
   "source": [
    "fig = plt.figure(figsize=(8,6))\n",
    "sub = fig.add_subplot(111)\n",
    "sub.scatter(bgs['Z_HP'].data, bgs['provabgs_logMstar_bf'].data, \n",
    "            s=bgs['provabgs_w_zfail'].data * bgs['provabgs_w_fibassign'].data, c='C0', label='BGS Bright')\n",
    "sub.legend(loc='lower right', fontsize=25, markerscale=10, handletextpad=0.1)\n",
    "sub.set_xlabel(r\"redshift ($z$)\", fontsize=25)\n",
    "sub.set_xlim(0., 0.6)\n",
    "sub.set_ylabel(r\"best-fit $\\log M_*$\", fontsize=25)\n",
    "sub.set_ylim(6., 13.)"
   ]
  },
  {
   "cell_type": "code",
   "execution_count": 12,
   "id": "d61a6bef",
   "metadata": {},
   "outputs": [],
   "source": [
    "logM_posteriors = bgs['provabgs_logMstar'].data\n",
    "vmaxes = bgs['Vmax'].data"
   ]
  },
  {
   "cell_type": "code",
   "execution_count": 13,
   "id": "a0a8725e-2882-4282-b8bc-567afda3a2c2",
   "metadata": {},
   "outputs": [
    {
     "data": {
      "text/plain": [
       "(7.0, 12.5)"
      ]
     },
     "execution_count": 13,
     "metadata": {},
     "output_type": "execute_result"
    },
    {
     "data": {
      "image/png": "[encoded data removed]",
      "text/plain": [
       "<Figure size 432x288 with 1 Axes>"
      ]
     },
     "metadata": {
      "needs_background": "light"
     },
     "output_type": "display_data"
    }
   ],
   "source": [
    "for i in np.random.choice(np.arange(logM_posteriors.shape[0]), size=20, replace=False): \n",
    "    plt.hist(logM_posteriors[i,:], bins=5, alpha=0.5, density=True)\n",
    "plt.xlim(7., 12.5)"
   ]
  },
  {
   "cell_type": "markdown",
   "id": "b3bbe49f-82f6-4cea-8749-9fd33582c0ff",
   "metadata": {},
   "source": [
    "# estimate $p(M_* | \\{x_i, z_i \\})$ in $z$ bins --- incorrectly\n",
    "\n",
    "Lets just look at the median of the posteriors"
   ]
  },
  {
   "cell_type": "code",
   "execution_count": 14,
   "id": "7685066a",
   "metadata": {},
   "outputs": [
    {
     "name": "stderr",
     "output_type": "stream",
     "text": [
      "/home/chhahn/.conda/envs/sbi/lib/python3.7/site-packages/ipykernel_launcher.py:10: RuntimeWarning: divide by zero encountered in true_divide\n",
      "  # Remove the CWD from sys.path while we load stuff.\n",
      "/home/chhahn/.conda/envs/sbi/lib/python3.7/site-packages/ipykernel_launcher.py:10: RuntimeWarning: divide by zero encountered in true_divide\n",
      "  # Remove the CWD from sys.path while we load stuff.\n",
      "/home/chhahn/.conda/envs/sbi/lib/python3.7/site-packages/ipykernel_launcher.py:10: RuntimeWarning: divide by zero encountered in true_divide\n",
      "  # Remove the CWD from sys.path while we load stuff.\n"
     ]
    },
    {
     "data": {
      "image/png": "[encoded data removed]",
      "text/plain": [
       "<Figure size 576x432 with 1 Axes>"
      ]
     },
     "metadata": {
      "needs_background": "light"
     },
     "output_type": "display_data"
    }
   ],
   "source": [
    "fig = plt.figure(figsize=(8,6))\n",
    "sub = fig.add_subplot(111)\n",
    "for i, zmin, zmax in zip(range(4), [0., 0.1, 0.2, 0.3], [0.1, 0.2, 0.3, 0.4]):\n",
    "    # Vmax based importance weights\n",
    "    zlim = (bgs['Z_HP'].data > zmin) & (bgs['Z_HP'].data < zmax) & bgs['is_bgs_bright']\n",
    "\n",
    "    v_zmin = Planck13.comoving_volume(zmin).value * Planck13.h**3 * f_area # (Mpc/h)^3\n",
    "    v_zmax = Planck13.comoving_volume(zmax).value * Planck13.h**3 * f_area # (Mpc/h)^3\n",
    "    \n",
    "    w_import = (v_zmax - v_zmin) / (vmaxes.clip(v_zmin, v_zmax) - v_zmin) \n",
    "    w_import *= bgs['provabgs_w_zfail'].data * bgs['provabgs_w_fibassign']\n",
    "    \n",
    "    _ = sub.hist(np.median(logM_posteriors[zlim], axis=1), bins=40, range=(6., 13.), color='C%i' % i, \n",
    "                 linestyle='--', histtype='step', density=True)\n",
    "    _ = sub.hist(np.median(logM_posteriors[zlim], axis=1), weights=w_import[zlim], bins=40, range=(6., 13.), \n",
    "                 color='C%i' % i, linewidth=2, histtype='step', alpha=0.5, density=True)\n",
    "sub.set_xlabel(r'$\\log M_*$', fontsize=25)\n",
    "sub.set_xlim(6., 13)\n",
    "sub.set_ylabel(r'$p(\\log M_*)$', fontsize=25)\n",
    "sub.set_yscale('log')\n",
    "plt.show()"
   ]
  },
  {
   "cell_type": "markdown",
   "id": "f3a97b3b",
   "metadata": {},
   "source": [
    "# estimate $p(M_* | \\{x_i, z_i \\})$ in $z$ bins --- correctly"
   ]
  },
  {
   "cell_type": "code",
   "execution_count": 15,
   "id": "1eb8d4c1",
   "metadata": {},
   "outputs": [],
   "source": [
    "class GaussianMixtureModel(nn.Module):\n",
    "    def __init__(self, n_components: int=2, mmin=7., mmax=13.):\n",
    "        super().__init__()\n",
    "        logweights = torch.zeros(n_components, )\n",
    "        means   = (mmax-mmin)*torch.rand(n_components, ) + mmin\n",
    "        logstdevs  = 0.1*torch.tensor(np.random.uniform(size=n_components)) - 1.\n",
    "        \n",
    "        self.logweights = torch.nn.Parameter(logweights)\n",
    "        self.means   = torch.nn.Parameter(means)\n",
    "        self.logstdevs  = torch.nn.Parameter(logstdevs)\n",
    "    \n",
    "    def forward(self, x):\n",
    "        mix  = D.Categorical(torch.exp(self.logweights))\n",
    "        comp = D.Normal(self.means, torch.exp(self.logstdevs))\n",
    "        gmm  = D.MixtureSameFamily(mix, comp)\n",
    "        return - gmm.log_prob(x).mean()\n",
    "    \n",
    "    def log_prob(self, x): \n",
    "        mix  = D.Categorical(torch.exp(self.logweights))\n",
    "        comp = D.Normal(self.means, torch.exp(self.logstdevs))\n",
    "        gmm  = D.MixtureSameFamily(mix, comp)\n",
    "        return gmm.log_prob(x)\n",
    "    \n",
    "    def sample(self, N):\n",
    "        mix  = D.Categorical(torch.exp(self.logweights))\n",
    "        comp = D.Normal(self.means, torch.exp(self.logstdevs))\n",
    "        gmm  = D.MixtureSameFamily(mix, comp)\n",
    "        \n",
    "        return gmm.sample(N)\n",
    "    \n",
    "    \n",
    "def Loss(qphi, post, w): \n",
    "    ''' calculate loss\n",
    "    \n",
    "    \\sum_i^Ng w_i * \\log \\sum_j^Ns qphi(\\theta_ij)\n",
    "    \n",
    "    '''\n",
    "    logqphi = qphi.log_prob(post.flatten()[:,None]).reshape(post.shape)\n",
    "\n",
    "    return -torch.sum(w * torch.logsumexp(logqphi, axis=1))  "
   ]
  },
  {
   "cell_type": "code",
   "execution_count": 16,
   "id": "0cf7800e",
   "metadata": {},
   "outputs": [],
   "source": [
    "zmins = [0.01 + 0.04 * i for i in range(10)]\n",
    "zmaxs = [0.01 + 0.04 * (i+1) for i in range(10)]"
   ]
  },
  {
   "cell_type": "code",
   "execution_count": 17,
   "id": "98bdfa40",
   "metadata": {},
   "outputs": [],
   "source": [
    "for zmin, zmax in zip(zmins[:5], zmaxs):\n",
    "    fgmm = os.path.join(dat_dir, 'psmf.gmm.bgs_bright.z%.2f_%.2f.best.pt' % (zmin, zmax))\n",
    "    if os.path.isfile(fgmm): continue\n",
    "\n",
    "    # Vmax based importance weights\n",
    "    zlim = (bgs['Z_HP'].data > zmin) & (bgs['Z_HP'].data < zmax) & (bgs['provabgs_w_zfail'].data > 0)\n",
    "    print('%i galaxies' % np.sum(zlim))\n",
    "    \n",
    "    v_zmin = Planck13.comoving_volume(zmin).value * Planck13.h**3 * f_area # (Mpc/h)^3\n",
    "    v_zmax = Planck13.comoving_volume(zmax).value * Planck13.h**3 * f_area # (Mpc/h)^3\n",
    "    \n",
    "    w_import = (v_zmax - v_zmin) / (vmaxes.clip(v_zmin, v_zmax) - v_zmin) \n",
    "    w_import *= bgs['provabgs_w_zfail'].data * bgs['provabgs_w_fibassign'].data\n",
    "    print(w_import[zlim].min(), w_import[zlim].max())\n",
    "\n",
    "    x_data = torch.tensor(logM_posteriors[zlim].astype(np.float32)).to(device)\n",
    "    w_data = torch.tensor(w_import[zlim].astype(np.float32)).to(device)\n",
    "    \n",
    "    # make sure there aren't any Nans\n",
    "    assert torch.sum(np.isnan(x_data.cpu())) == 0 \n",
    "    assert torch.sum(np.isnan(w_data.cpu())) == 0\n",
    "        \n",
    "    batch_size = 128\n",
    "    Ntrain = int(0.9 * x_data.shape[0])\n",
    "    Nvalid = x_data.shape[0] - Ntrain # int(0.1 * x_data.shape[0])\n",
    "\n",
    "    trainloader = torch.utils.data.DataLoader(\n",
    "            torch.utils.data.TensorDataset(x_data[:Ntrain], w_data[:Ntrain]),\n",
    "            batch_size=batch_size,\n",
    "            shuffle=True)\n",
    "\n",
    "    validloader = torch.utils.data.DataLoader(\n",
    "            torch.utils.data.TensorDataset(x_data[Ntrain:], w_data[Ntrain:]),\n",
    "            batch_size=batch_size)\n",
    "    \n",
    "    num_iter = 1000\n",
    "    patience = 20\n",
    "\n",
    "    fig = plt.figure(figsize=(6,4))\n",
    "    sub = fig.add_subplot(111)\n",
    "    \n",
    "    _ = sub.hist(np.median(logM_posteriors[zlim], axis=1), \n",
    "             weights=w_import[zlim]*10000./np.sum(w_import[zlim]), \n",
    "             range=(7., 13.), bins=40, histtype='step', \n",
    "             color='k', linestyle='--', linewidth=2)\n",
    "    \n",
    "    best_flows, best_valid_losses, vls = [], [], []\n",
    "    for i in range(5): \n",
    "        ncomp = int(np.random.uniform(5, 100))\n",
    "        flow = GaussianMixtureModel(n_components=ncomp, \n",
    "                                    mmin=logM_posteriors[zlim].min(), \n",
    "                                    mmax=logM_posteriors[zlim].max())\n",
    "        flow.to(device)\n",
    "        print('GMM with %i components' % ncomp)\n",
    "    \n",
    "        best_valid_loss = np.inf\n",
    "        valid_losses = []\n",
    "        for lr in [1e-2, 1e-3, 1e-4]: \n",
    "            optimizer = optim.Adam(flow.parameters(), lr=lr)\n",
    "            best_epoch = 0\n",
    "\n",
    "            t = trange(num_iter, leave=False)\n",
    "            for epoch in t:\n",
    "                train_loss = 0.\n",
    "                for batch in trainloader: \n",
    "                    optimizer.zero_grad()\n",
    "                    _post, _w = batch\n",
    "                    _post = _post.to(device)\n",
    "                    _w = _w.to(device)\n",
    "\n",
    "                    loss = Loss(flow, _post, _w)\n",
    "                    loss.backward()\n",
    "                    train_loss += loss.item()\n",
    "                    optimizer.step()\n",
    "                train_loss /= len(trainloader.dataset)\n",
    "\n",
    "                with torch.no_grad():\n",
    "                    valid_loss = 0.\n",
    "                    for batch in validloader: \n",
    "                        _post, _w = batch\n",
    "                        _post = _post.to(device)\n",
    "                        _w = _w.to(device)\n",
    "\n",
    "                        loss = Loss(flow, _post, _w)                \n",
    "                        valid_loss += loss.item()\n",
    "                    valid_loss /= len(validloader.dataset)           \n",
    "                    valid_losses.append(valid_loss)\n",
    "\n",
    "                t.set_description('Epoch: %i TRAINING Loss: %.2e VALIDATION Loss: %.2e' % \n",
    "                                  (epoch, train_loss, valid_loss), refresh=False)\n",
    "\n",
    "                if valid_loss < best_valid_loss: \n",
    "                    best_valid_loss = valid_loss\n",
    "                    best_epoch = epoch\n",
    "                    best_flow = copy.deepcopy(flow)\n",
    "                else: \n",
    "                    if best_epoch < epoch - patience: \n",
    "                        print('>>>%i \\t %.5e' % (epoch, best_valid_loss))\n",
    "                        break\n",
    "            \n",
    "        with torch.no_grad(): \n",
    "            post_prime = best_flow.sample((10000,))\n",
    "            _ = sub.hist(np.array(post_prime.detach().cpu()), range=(7., 13.), bins=40, histtype='step', linewidth=2)\n",
    "\n",
    "        best_flows.append(best_flow)\n",
    "        best_valid_losses.append(best_valid_loss)\n",
    "        vls.append(valid_losses)\n",
    "        \n",
    "    sub.set_xlabel(r'$\\log M_*$', fontsize=25)\n",
    "    sub.set_xlim(7., 13.)\n",
    "    sub.set_ylabel(r'$p(\\log M_*)$', fontsize=25)\n",
    "    sub.set_yscale('log')\n",
    "    plt.show()\n",
    "    \n",
    "    ibest = np.argmin(best_valid_losses)\n",
    "    torch.save(best_flows[ibest], fgmm)            "
   ]
  },
  {
   "cell_type": "code",
   "execution_count": 18,
   "id": "9ffbd710",
   "metadata": {},
   "outputs": [
    {
     "name": "stderr",
     "output_type": "stream",
     "text": [
      "/home/chhahn/.conda/envs/sbi/lib/python3.7/site-packages/ipykernel_launcher.py:10: RuntimeWarning: divide by zero encountered in true_divide\n",
      "  # Remove the CWD from sys.path while we load stuff.\n",
      "/home/chhahn/.conda/envs/sbi/lib/python3.7/site-packages/ipykernel_launcher.py:10: RuntimeWarning: divide by zero encountered in true_divide\n",
      "  # Remove the CWD from sys.path while we load stuff.\n",
      "/home/chhahn/.conda/envs/sbi/lib/python3.7/site-packages/ipykernel_launcher.py:10: RuntimeWarning: divide by zero encountered in true_divide\n",
      "  # Remove the CWD from sys.path while we load stuff.\n",
      "/home/chhahn/.conda/envs/sbi/lib/python3.7/site-packages/ipykernel_launcher.py:10: RuntimeWarning: divide by zero encountered in true_divide\n",
      "  # Remove the CWD from sys.path while we load stuff.\n"
     ]
    },
    {
     "data": {
      "image/png": "[encoded data removed]",
      "text/plain": [
       "<Figure size 576x432 with 1 Axes>"
      ]
     },
     "metadata": {
      "needs_background": "light"
     },
     "output_type": "display_data"
    }
   ],
   "source": [
    "fig = plt.figure(figsize=(8,6))\n",
    "sub = fig.add_subplot(111)\n",
    "for i, zmin, zmax in zip(range(4), zmins, zmaxs):\n",
    "    # Vmax based importance weights\n",
    "    zlim = (bgs['Z_HP'].data > zmin) & (bgs['Z_HP'].data < zmax) & (bgs['provabgs_w_zfail'].data > 0)\n",
    "\n",
    "    v_zmin = Planck13.comoving_volume(zmin).value * Planck13.h**3 * f_area # (Mpc/h)^3\n",
    "    v_zmax = Planck13.comoving_volume(zmax).value * Planck13.h**3 * f_area # (Mpc/h)^3\n",
    "    \n",
    "    w_import = (v_zmax - v_zmin) / (vmaxes.clip(v_zmin, v_zmax) - v_zmin) \n",
    "    w_import *= bgs['provabgs_w_zfail'].data * bgs['provabgs_w_fibassign']\n",
    "    \n",
    "    #psmf_model = best_models_z[i] \n",
    "    psmf_model = torch.load(os.path.join(dat_dir, 'psmf.gmm.bgs_bright.z%.2f_%.2f.best.pt' % (zmin, zmax)), map_location=device)\n",
    "    with torch.no_grad(): \n",
    "        post_prime = psmf_model.sample((10000,))\n",
    "    \n",
    "    _ = sub.hist(np.median(logM_posteriors[zlim], axis=1), \n",
    "                 weights=w_import[zlim]*10000./np.sum(w_import[zlim]), \n",
    "                 range=(6., 13.), bins=40, histtype='step', \n",
    "                 color='k', linestyle='--', linewidth=1) \n",
    "    \n",
    "    _ = sub.hist(np.array(post_prime.detach().cpu()), range=(6., 13.), bins=40, \n",
    "                 color='C%i' % i, histtype='step', linewidth=2)\n",
    "    sub.plot([], [], c='C%i' % i, label='$%.2f < z < %.2f$' % (zmin, zmax))\n",
    "\n",
    "sub.legend(loc='upper right', fontsize=15)\n",
    "sub.set_xlabel(r'$\\log M_*$', fontsize=25)\n",
    "sub.set_xlim(7., 13.)\n",
    "sub.set_ylabel(r'$p(\\log M_*)$', fontsize=25)\n",
    "sub.set_yscale('log')\n",
    "sub.set_ylim(5e-1, 5e4)\n",
    "plt.show()"
   ]
  },
  {
   "cell_type": "markdown",
   "id": "447c1c62",
   "metadata": {},
   "source": [
    "# normalizing the pSMF"
   ]
  },
  {
   "cell_type": "code",
   "execution_count": 19,
   "id": "aa02feee",
   "metadata": {},
   "outputs": [],
   "source": [
    "_zmin, _zmax, mlim = np.loadtxt(os.path.join(dat_dir, 'psmf.logmstar_comp_limit.dat'), unpack=True, usecols=[0, 1, 2])"
   ]
  },
  {
   "cell_type": "code",
   "execution_count": 20,
   "id": "3e0a954f",
   "metadata": {},
   "outputs": [
    {
     "name": "stderr",
     "output_type": "stream",
     "text": [
      "/home/chhahn/.conda/envs/sbi/lib/python3.7/site-packages/ipykernel_launcher.py:10: RuntimeWarning: divide by zero encountered in true_divide\n",
      "  # Remove the CWD from sys.path while we load stuff.\n",
      "/home/chhahn/.conda/envs/sbi/lib/python3.7/site-packages/ipykernel_launcher.py:10: RuntimeWarning: divide by zero encountered in true_divide\n",
      "  # Remove the CWD from sys.path while we load stuff.\n",
      "/home/chhahn/.conda/envs/sbi/lib/python3.7/site-packages/ipykernel_launcher.py:10: RuntimeWarning: divide by zero encountered in true_divide\n",
      "  # Remove the CWD from sys.path while we load stuff.\n",
      "/home/chhahn/.conda/envs/sbi/lib/python3.7/site-packages/ipykernel_launcher.py:10: RuntimeWarning: divide by zero encountered in true_divide\n",
      "  # Remove the CWD from sys.path while we load stuff.\n"
     ]
    },
    {
     "data": {
      "image/png": "[encoded data removed]",
      "text/plain": [
       "<Figure size 576x432 with 1 Axes>"
      ]
     },
     "metadata": {
      "needs_background": "light"
     },
     "output_type": "display_data"
    }
   ],
   "source": [
    "fig = plt.figure(figsize=(8,6))\n",
    "sub = fig.add_subplot(111)\n",
    "for i, zmin, zmax in zip(range(4), zmins, zmaxs):\n",
    "    # Vmax based importance weights\n",
    "    zlim = (bgs['Z_HP'].data > zmin) & (bgs['Z_HP'].data < zmax)\n",
    "\n",
    "    v_zmin = Planck13.comoving_volume(zmin).value * Planck13.h**3 * f_area # (Mpc/h)^3\n",
    "    v_zmax = Planck13.comoving_volume(zmax).value * Planck13.h**3 * f_area# (Mpc/h)^3\n",
    "    \n",
    "    w_import = (v_zmax - v_zmin) / (vmaxes.clip(v_zmin, v_zmax) - v_zmin) \n",
    "    w_import *= bgs['provabgs_w_zfail'].data * bgs['provabgs_w_fibassign']\n",
    "\n",
    "    # calculate normalization\n",
    "    norm = np.sum(w_import[zlim]) / (v_zmax - v_zmin)\n",
    "    #psmf_model = best_models_z[i] \n",
    "    psmf_model = torch.load(os.path.join(dat_dir, 'psmf.gmm.bgs_bright.z%.2f_%.2f.best.pt' % (zmin, zmax)), map_location=device)\n",
    "    with torch.no_grad(): \n",
    "        post_prime = psmf_model.sample((100000,))\n",
    "    \n",
    "    # calculate normalization    \n",
    "    #_ = sub.hist(np.median(logM_posteriors[zlim], axis=1), \n",
    "    #             weights=w_import[zlim]*norm, #10000./np.sum(w_import[zlim]), \n",
    "    #             range=(6., 13.), bins=40, histtype='step', \n",
    "    #             color='k', linestyle='--', linewidth=1) \n",
    "    h, be = np.histogram(np.array(post_prime.detach().cpu()), \n",
    "                 weights=np.repeat(norm, 100000) / 100000, range=(6., 13.), bins=40)\n",
    "    \n",
    "    sub.step(be[:-1], h, where='pre', color='C%i' % i, linestyle='--')\n",
    "    sub.step(be[:-1][be[:-1] > mlim[2*i+1]], h[be[:-1] > mlim[2*i+1]], where='pre', color='C%i' % i, linestyle='-')\n",
    "    sub.plot([], [], c='C%i' % i, label='$%.2f < z < %.2f$' % (zmin, zmax))\n",
    "    #sub.axvline(mlim[2*i+1], color='C%i' % i, linestyle=':')\n",
    "sub.legend(loc='lower left', fontsize=20)\n",
    "sub.set_xlabel(r'$\\log M_*$', fontsize=25)\n",
    "sub.set_xlim(7., 12.5)\n",
    "sub.set_ylabel(r'$p(\\log M_*)$ [$({\\rm Mpc}/h)^{-3}{\\rm dex}^{-1}$]', fontsize=25)\n",
    "sub.set_yscale('log')\n",
    "sub.set_ylim(5e-7, 4e-2)\n",
    "plt.show()"
   ]
  },
  {
   "cell_type": "markdown",
   "id": "8a6f1402",
   "metadata": {},
   "source": [
    "# jack knife uncertainties"
   ]
  },
  {
   "cell_type": "code",
   "execution_count": 21,
   "id": "a1b70a3f",
   "metadata": {},
   "outputs": [],
   "source": [
    "fields = [\n",
    "    ((bgs['RA'] > 140) & (bgs['RA'] < 160)), \n",
    "    ((bgs['RA'] > 160) & (bgs['RA'] < 185) & (bgs['DEC'] > -10) & (bgs['DEC'] < 10)), \n",
    "    ((bgs['RA'] > 205) & (bgs['RA'] < 212) & (bgs['DEC'] > 2) & (bgs['DEC'] < 8)), \n",
    "    ((bgs['RA'] > 210) & (bgs['RA'] < 224) & (bgs['DEC'] > -5) & (bgs['DEC'] < 5) & ~((bgs['RA'] > 205) & (bgs['RA'] < 212) & (bgs['DEC'] > 2) & (bgs['DEC'] < 8))),\n",
    "    ((bgs['RA'] > 190) & (bgs['RA'] < 200) & (bgs['DEC'] > 20) & (bgs['DEC'] < 30)), \n",
    "    ((bgs['RA'] > 210) & (bgs['RA'] < 225) & (bgs['DEC'] > 30) & (bgs['DEC'] < 40)),     \n",
    "    ((bgs['RA'] > 250) & (bgs['RA'] < 260) & (bgs['DEC'] > 30) & (bgs['DEC'] < 40)),\n",
    "    ((bgs['RA'] > 230) & (bgs['RA'] < 255) & (bgs['DEC'] > 40) & (bgs['DEC'] < 45)),    \n",
    "    ((bgs['RA'] > 210) & (bgs['RA'] < 225) & (bgs['DEC'] > 45) & (bgs['DEC'] < 58)),        \n",
    "    ((bgs['RA'] > 235) & (bgs['RA'] < 255) & (bgs['DEC'] > 50) & (bgs['DEC'] < 60)), \n",
    "    ((bgs['RA'] > 180) & (bgs['RA'] < 200) & (bgs['DEC'] > 55) & (bgs['DEC'] < 70)), \n",
    "    ((bgs['RA'] > 260) & (bgs['RA'] < 280) & (bgs['DEC'] > 55) & (bgs['DEC'] < 70))    \n",
    "]\n",
    "\n",
    "A_fields = [164.965, 156.064, 164.917, 138.785, 155.972, 164.848, 165.120, 148.024, \n",
    "            165.015, 165.030, 164.890, 156.806]"
   ]
  },
  {
   "cell_type": "code",
   "execution_count": 22,
   "id": "1d9cf2be",
   "metadata": {},
   "outputs": [
    {
     "data": {
      "text/plain": [
       "Text(0, 0.5, 'Dec')"
      ]
     },
     "execution_count": 22,
     "metadata": {},
     "output_type": "execute_result"
    },
    {
     "data": {
      "image/png": "[encoded data removed]",
      "text/plain": [
       "<Figure size 576x432 with 1 Axes>"
      ]
     },
     "metadata": {
      "needs_background": "light"
     },
     "output_type": "display_data"
    }
   ],
   "source": [
    "fig = plt.figure(figsize=(8,6))\n",
    "sub = fig.add_subplot(111)\n",
    "sub.scatter(bgs['RA'], bgs['DEC'], s=1)\n",
    "for field in fields: \n",
    "    sub.scatter(bgs['RA'][field], bgs['DEC'][field], s=1)\n",
    "sub.set_xlabel('RA', fontsize=25)\n",
    "sub.set_xlim(140, 280)\n",
    "sub.set_ylabel('Dec', fontsize=25)\n",
    "#sub.set_ylim(-10, 10)"
   ]
  },
  {
   "cell_type": "code",
   "execution_count": null,
   "id": "10423291",
   "metadata": {},
   "outputs": [
    {
     "name": "stdout",
     "output_type": "stream",
     "text": [
      "GMM with 11 components\n"
     ]
    },
    {
     "name": "stderr",
     "output_type": "stream",
     "text": [
      "/home/chhahn/.conda/envs/sbi/lib/python3.7/site-packages/ipykernel_launcher.py:14: RuntimeWarning: divide by zero encountered in true_divide\n",
      "  \n"
     ]
    },
    {
     "data": {
      "application/vnd.jupyter.widget-view+json": {
       "model_id": "95fa71c8309d4cae842590799b8589c6",
       "version_major": 2,
       "version_minor": 0
      },
      "text/plain": [
       "  0%|          | 0/1000 [00:00<?, ?it/s]"
      ]
     },
     "metadata": {},
     "output_type": "display_data"
    },
    {
     "name": "stdout",
     "output_type": "stream",
     "text": [
      ">>>47 \t -7.63031e+00\n"
     ]
    },
    {
     "data": {
      "application/vnd.jupyter.widget-view+json": {
       "model_id": "ed40a102c66d4955b1a1da2be5bd81c1",
       "version_major": 2,
       "version_minor": 0
      },
      "text/plain": [
       "  0%|          | 0/1000 [00:00<?, ?it/s]"
      ]
     },
     "metadata": {},
     "output_type": "display_data"
    },
    {
     "name": "stdout",
     "output_type": "stream",
     "text": [
      ">>>21 \t -7.63031e+00\n"
     ]
    },
    {
     "data": {
      "application/vnd.jupyter.widget-view+json": {
       "model_id": "5d5ec58729194b6586ba69701d7b9dee",
       "version_major": 2,
       "version_minor": 0
      },
      "text/plain": [
       "  0%|          | 0/1000 [00:00<?, ?it/s]"
      ]
     },
     "metadata": {},
     "output_type": "display_data"
    },
    {
     "name": "stdout",
     "output_type": "stream",
     "text": [
      ">>>21 \t -7.63031e+00\n",
      "GMM with 29 components\n"
     ]
    },
    {
     "data": {
      "application/vnd.jupyter.widget-view+json": {
       "model_id": "0b750250d1f944409b7f49a25040dc4a",
       "version_major": 2,
       "version_minor": 0
      },
      "text/plain": [
       "  0%|          | 0/1000 [00:00<?, ?it/s]"
      ]
     },
     "metadata": {},
     "output_type": "display_data"
    },
    {
     "name": "stdout",
     "output_type": "stream",
     "text": [
      ">>>26 \t -7.69262e+00\n"
     ]
    },
    {
     "data": {
      "application/vnd.jupyter.widget-view+json": {
       "model_id": "e1083e1ae6ad49ca85e43f3d7043afc1",
       "version_major": 2,
       "version_minor": 0
      },
      "text/plain": [
       "  0%|          | 0/1000 [00:00<?, ?it/s]"
      ]
     },
     "metadata": {},
     "output_type": "display_data"
    },
    {
     "name": "stdout",
     "output_type": "stream",
     "text": [
      ">>>21 \t -7.69262e+00\n"
     ]
    },
    {
     "data": {
      "application/vnd.jupyter.widget-view+json": {
       "model_id": "63b78006decc47a19701d460522f969a",
       "version_major": 2,
       "version_minor": 0
      },
      "text/plain": [
       "  0%|          | 0/1000 [00:00<?, ?it/s]"
      ]
     },
     "metadata": {},
     "output_type": "display_data"
    },
    {
     "name": "stdout",
     "output_type": "stream",
     "text": [
      ">>>21 \t -7.69262e+00\n",
      "GMM with 74 components\n"
     ]
    },
    {
     "data": {
      "application/vnd.jupyter.widget-view+json": {
       "model_id": "153f671ca521417cae0ac675b7941606",
       "version_major": 2,
       "version_minor": 0
      },
      "text/plain": [
       "  0%|          | 0/1000 [00:00<?, ?it/s]"
      ]
     },
     "metadata": {},
     "output_type": "display_data"
    },
    {
     "name": "stdout",
     "output_type": "stream",
     "text": [
      ">>>23 \t -7.71820e+00\n"
     ]
    },
    {
     "data": {
      "application/vnd.jupyter.widget-view+json": {
       "model_id": "8a5923cf99e140deb908e7b94200bed8",
       "version_major": 2,
       "version_minor": 0
      },
      "text/plain": [
       "  0%|          | 0/1000 [00:00<?, ?it/s]"
      ]
     },
     "metadata": {},
     "output_type": "display_data"
    },
    {
     "name": "stdout",
     "output_type": "stream",
     "text": [
      ">>>21 \t -7.71820e+00\n"
     ]
    },
    {
     "data": {
      "application/vnd.jupyter.widget-view+json": {
       "model_id": "c3e1b3801141492f8b7ea61ad945c68b",
       "version_major": 2,
       "version_minor": 0
      },
      "text/plain": [
       "  0%|          | 0/1000 [00:00<?, ?it/s]"
      ]
     },
     "metadata": {},
     "output_type": "display_data"
    },
    {
     "name": "stdout",
     "output_type": "stream",
     "text": [
      ">>>21 \t -7.71820e+00\n",
      "GMM with 13 components\n"
     ]
    },
    {
     "data": {
      "application/vnd.jupyter.widget-view+json": {
       "model_id": "1240b1d55ece44a6938314d865d15b4b",
       "version_major": 2,
       "version_minor": 0
      },
      "text/plain": [
       "  0%|          | 0/1000 [00:00<?, ?it/s]"
      ]
     },
     "metadata": {},
     "output_type": "display_data"
    },
    {
     "name": "stdout",
     "output_type": "stream",
     "text": [
      ">>>95 \t -7.21961e+00\n"
     ]
    },
    {
     "data": {
      "application/vnd.jupyter.widget-view+json": {
       "model_id": "0631eeee49bb42a1b3cf71f589f272a7",
       "version_major": 2,
       "version_minor": 0
      },
      "text/plain": [
       "  0%|          | 0/1000 [00:00<?, ?it/s]"
      ]
     },
     "metadata": {},
     "output_type": "display_data"
    },
    {
     "name": "stdout",
     "output_type": "stream",
     "text": [
      ">>>21 \t -7.21961e+00\n"
     ]
    },
    {
     "data": {
      "application/vnd.jupyter.widget-view+json": {
       "model_id": "93094c9c3a214c84a07eddae8550367f",
       "version_major": 2,
       "version_minor": 0
      },
      "text/plain": [
       "  0%|          | 0/1000 [00:00<?, ?it/s]"
      ]
     },
     "metadata": {},
     "output_type": "display_data"
    },
    {
     "name": "stdout",
     "output_type": "stream",
     "text": [
      ">>>21 \t -7.21961e+00\n",
      "GMM with 7 components\n"
     ]
    },
    {
     "data": {
      "application/vnd.jupyter.widget-view+json": {
       "model_id": "73c47c6689204913a38caac998d3134e",
       "version_major": 2,
       "version_minor": 0
      },
      "text/plain": [
       "  0%|          | 0/1000 [00:00<?, ?it/s]"
      ]
     },
     "metadata": {},
     "output_type": "display_data"
    },
    {
     "name": "stdout",
     "output_type": "stream",
     "text": [
      ">>>56 \t -7.14899e+00\n"
     ]
    },
    {
     "data": {
      "application/vnd.jupyter.widget-view+json": {
       "model_id": "1a244880b27b41a2b0f2c6690f5657d1",
       "version_major": 2,
       "version_minor": 0
      },
      "text/plain": [
       "  0%|          | 0/1000 [00:00<?, ?it/s]"
      ]
     },
     "metadata": {},
     "output_type": "display_data"
    },
    {
     "name": "stdout",
     "output_type": "stream",
     "text": [
      ">>>26 \t -7.15246e+00\n"
     ]
    },
    {
     "data": {
      "application/vnd.jupyter.widget-view+json": {
       "model_id": "d13849a733a94678bca3ecab61cd4803",
       "version_major": 2,
       "version_minor": 0
      },
      "text/plain": [
       "  0%|          | 0/1000 [00:00<?, ?it/s]"
      ]
     },
     "metadata": {},
     "output_type": "display_data"
    },
    {
     "name": "stdout",
     "output_type": "stream",
     "text": [
      ">>>21 \t -7.15246e+00\n",
      "GMM with 20 components\n"
     ]
    },
    {
     "data": {
      "application/vnd.jupyter.widget-view+json": {
       "model_id": "c33b7c44436b46ad9b021210e61704ba",
       "version_major": 2,
       "version_minor": 0
      },
      "text/plain": [
       "  0%|          | 0/1000 [00:00<?, ?it/s]"
      ]
     },
     "metadata": {},
     "output_type": "display_data"
    },
    {
     "name": "stdout",
     "output_type": "stream",
     "text": [
      ">>>23 \t -7.15843e+00\n"
     ]
    },
    {
     "data": {
      "application/vnd.jupyter.widget-view+json": {
       "model_id": "16df9687168043e9bd950ff56e1938fa",
       "version_major": 2,
       "version_minor": 0
      },
      "text/plain": [
       "  0%|          | 0/1000 [00:00<?, ?it/s]"
      ]
     },
     "metadata": {},
     "output_type": "display_data"
    },
    {
     "name": "stdout",
     "output_type": "stream",
     "text": [
      ">>>21 \t -7.15843e+00\n"
     ]
    },
    {
     "data": {
      "application/vnd.jupyter.widget-view+json": {
       "model_id": "44f1c5d6f01848929db3408de4369957",
       "version_major": 2,
       "version_minor": 0
      },
      "text/plain": [
       "  0%|          | 0/1000 [00:00<?, ?it/s]"
      ]
     },
     "metadata": {},
     "output_type": "display_data"
    },
    {
     "name": "stdout",
     "output_type": "stream",
     "text": [
      ">>>21 \t -7.15843e+00\n",
      "GMM with 38 components\n"
     ]
    },
    {
     "data": {
      "application/vnd.jupyter.widget-view+json": {
       "model_id": "064fa235ce0f4b598cd8e184ed717917",
       "version_major": 2,
       "version_minor": 0
      },
      "text/plain": [
       "  0%|          | 0/1000 [00:00<?, ?it/s]"
      ]
     },
     "metadata": {},
     "output_type": "display_data"
    },
    {
     "name": "stdout",
     "output_type": "stream",
     "text": [
      ">>>22 \t -7.64549e+00\n"
     ]
    },
    {
     "data": {
      "application/vnd.jupyter.widget-view+json": {
       "model_id": "4e62dd7da4c34cb1869781d320039e44",
       "version_major": 2,
       "version_minor": 0
      },
      "text/plain": [
       "  0%|          | 0/1000 [00:00<?, ?it/s]"
      ]
     },
     "metadata": {},
     "output_type": "display_data"
    },
    {
     "name": "stdout",
     "output_type": "stream",
     "text": [
      ">>>21 \t -7.64549e+00\n"
     ]
    },
    {
     "data": {
      "application/vnd.jupyter.widget-view+json": {
       "model_id": "b0867e87a2704440b777f63407cef2ff",
       "version_major": 2,
       "version_minor": 0
      },
      "text/plain": [
       "  0%|          | 0/1000 [00:00<?, ?it/s]"
      ]
     },
     "metadata": {},
     "output_type": "display_data"
    },
    {
     "name": "stdout",
     "output_type": "stream",
     "text": [
      ">>>21 \t -7.64549e+00\n",
      "GMM with 77 components\n"
     ]
    },
    {
     "data": {
      "application/vnd.jupyter.widget-view+json": {
       "model_id": "7d04488b242e4f6497e02096b6a12da0",
       "version_major": 2,
       "version_minor": 0
      },
      "text/plain": [
       "  0%|          | 0/1000 [00:00<?, ?it/s]"
      ]
     },
     "metadata": {},
     "output_type": "display_data"
    },
    {
     "name": "stdout",
     "output_type": "stream",
     "text": [
      ">>>22 \t -7.63637e+00\n"
     ]
    },
    {
     "data": {
      "application/vnd.jupyter.widget-view+json": {
       "model_id": "7779836b367c451faf32093f0fc8ac07",
       "version_major": 2,
       "version_minor": 0
      },
      "text/plain": [
       "  0%|          | 0/1000 [00:00<?, ?it/s]"
      ]
     },
     "metadata": {},
     "output_type": "display_data"
    },
    {
     "name": "stdout",
     "output_type": "stream",
     "text": [
      ">>>21 \t -7.63637e+00\n"
     ]
    },
    {
     "data": {
      "application/vnd.jupyter.widget-view+json": {
       "model_id": "5e874b64b9204c37bf46309dae30c369",
       "version_major": 2,
       "version_minor": 0
      },
      "text/plain": [
       "  0%|          | 0/1000 [00:00<?, ?it/s]"
      ]
     },
     "metadata": {},
     "output_type": "display_data"
    },
    {
     "name": "stdout",
     "output_type": "stream",
     "text": [
      ">>>21 \t -7.63637e+00\n",
      "GMM with 47 components\n"
     ]
    },
    {
     "data": {
      "application/vnd.jupyter.widget-view+json": {
       "model_id": "fcb058a7e93742d4be810e49eb2386d1",
       "version_major": 2,
       "version_minor": 0
      },
      "text/plain": [
       "  0%|          | 0/1000 [00:00<?, ?it/s]"
      ]
     },
     "metadata": {},
     "output_type": "display_data"
    },
    {
     "name": "stdout",
     "output_type": "stream",
     "text": [
      ">>>24 \t -7.63704e+00\n"
     ]
    },
    {
     "data": {
      "application/vnd.jupyter.widget-view+json": {
       "model_id": "cde5e7c7b1c94811b4ec5dab22531e72",
       "version_major": 2,
       "version_minor": 0
      },
      "text/plain": [
       "  0%|          | 0/1000 [00:00<?, ?it/s]"
      ]
     },
     "metadata": {},
     "output_type": "display_data"
    },
    {
     "name": "stdout",
     "output_type": "stream",
     "text": [
      ">>>21 \t -7.63704e+00\n"
     ]
    },
    {
     "data": {
      "application/vnd.jupyter.widget-view+json": {
       "model_id": "579de12a0bd34871a10e48e245220603",
       "version_major": 2,
       "version_minor": 0
      },
      "text/plain": [
       "  0%|          | 0/1000 [00:00<?, ?it/s]"
      ]
     },
     "metadata": {},
     "output_type": "display_data"
    },
    {
     "name": "stdout",
     "output_type": "stream",
     "text": [
      ">>>21 \t -7.63704e+00\n",
      "GMM with 46 components\n"
     ]
    },
    {
     "data": {
      "application/vnd.jupyter.widget-view+json": {
       "model_id": "121c9cc833804999bc9b7f8f4d8d67a4",
       "version_major": 2,
       "version_minor": 0
      },
      "text/plain": [
       "  0%|          | 0/1000 [00:00<?, ?it/s]"
      ]
     },
     "metadata": {},
     "output_type": "display_data"
    },
    {
     "name": "stdout",
     "output_type": "stream",
     "text": [
      ">>>24 \t -7.97118e+00\n"
     ]
    },
    {
     "data": {
      "application/vnd.jupyter.widget-view+json": {
       "model_id": "8ffa00d463d046fe81c4492c44e9a3f2",
       "version_major": 2,
       "version_minor": 0
      },
      "text/plain": [
       "  0%|          | 0/1000 [00:00<?, ?it/s]"
      ]
     },
     "metadata": {},
     "output_type": "display_data"
    },
    {
     "name": "stdout",
     "output_type": "stream",
     "text": [
      ">>>21 \t -7.97118e+00\n"
     ]
    },
    {
     "data": {
      "application/vnd.jupyter.widget-view+json": {
       "model_id": "720f7b376add494a8aaa2391659a0b55",
       "version_major": 2,
       "version_minor": 0
      },
      "text/plain": [
       "  0%|          | 0/1000 [00:00<?, ?it/s]"
      ]
     },
     "metadata": {},
     "output_type": "display_data"
    },
    {
     "name": "stdout",
     "output_type": "stream",
     "text": [
      ">>>21 \t -7.97118e+00\n",
      "GMM with 60 components\n"
     ]
    },
    {
     "data": {
      "application/vnd.jupyter.widget-view+json": {
       "model_id": "717cf5f0c6614a439a7a22f3328f373f",
       "version_major": 2,
       "version_minor": 0
      },
      "text/plain": [
       "  0%|          | 0/1000 [00:00<?, ?it/s]"
      ]
     },
     "metadata": {},
     "output_type": "display_data"
    },
    {
     "name": "stdout",
     "output_type": "stream",
     "text": [
      ">>>22 \t -7.97386e+00\n"
     ]
    },
    {
     "data": {
      "application/vnd.jupyter.widget-view+json": {
       "model_id": "ba91e2108d2144ab8a448f905773b445",
       "version_major": 2,
       "version_minor": 0
      },
      "text/plain": [
       "  0%|          | 0/1000 [00:00<?, ?it/s]"
      ]
     },
     "metadata": {},
     "output_type": "display_data"
    },
    {
     "name": "stdout",
     "output_type": "stream",
     "text": [
      ">>>21 \t -7.97386e+00\n"
     ]
    },
    {
     "data": {
      "application/vnd.jupyter.widget-view+json": {
       "model_id": "516a42b6bd124655851e8981a47bd255",
       "version_major": 2,
       "version_minor": 0
      },
      "text/plain": [
       "  0%|          | 0/1000 [00:00<?, ?it/s]"
      ]
     },
     "metadata": {},
     "output_type": "display_data"
    },
    {
     "name": "stdout",
     "output_type": "stream",
     "text": [
      ">>>21 \t -7.97386e+00\n",
      "GMM with 28 components\n"
     ]
    },
    {
     "data": {
      "application/vnd.jupyter.widget-view+json": {
       "model_id": "92202bb82cb94a1bb85829ddc37c9613",
       "version_major": 2,
       "version_minor": 0
      },
      "text/plain": [
       "  0%|          | 0/1000 [00:00<?, ?it/s]"
      ]
     },
     "metadata": {},
     "output_type": "display_data"
    },
    {
     "name": "stdout",
     "output_type": "stream",
     "text": [
      ">>>23 \t -7.94627e+00\n"
     ]
    },
    {
     "data": {
      "application/vnd.jupyter.widget-view+json": {
       "model_id": "fc479bf8113743a29ded3a4db4620a9c",
       "version_major": 2,
       "version_minor": 0
      },
      "text/plain": [
       "  0%|          | 0/1000 [00:00<?, ?it/s]"
      ]
     },
     "metadata": {},
     "output_type": "display_data"
    },
    {
     "name": "stdout",
     "output_type": "stream",
     "text": [
      ">>>21 \t -7.94627e+00\n"
     ]
    },
    {
     "data": {
      "application/vnd.jupyter.widget-view+json": {
       "model_id": "fa91b2d7ed864d1498f02a1ce4ed9e7c",
       "version_major": 2,
       "version_minor": 0
      },
      "text/plain": [
       "  0%|          | 0/1000 [00:00<?, ?it/s]"
      ]
     },
     "metadata": {},
     "output_type": "display_data"
    },
    {
     "name": "stdout",
     "output_type": "stream",
     "text": [
      ">>>21 \t -7.94627e+00\n",
      "GMM with 53 components\n"
     ]
    },
    {
     "data": {
      "application/vnd.jupyter.widget-view+json": {
       "model_id": "b3d94443c9554bbe8fa0ee978f67ecdb",
       "version_major": 2,
       "version_minor": 0
      },
      "text/plain": [
       "  0%|          | 0/1000 [00:00<?, ?it/s]"
      ]
     },
     "metadata": {},
     "output_type": "display_data"
    },
    {
     "name": "stdout",
     "output_type": "stream",
     "text": [
      ">>>24 \t -8.28854e+00\n"
     ]
    },
    {
     "data": {
      "application/vnd.jupyter.widget-view+json": {
       "model_id": "477000696af04ba4be5fbad236551290",
       "version_major": 2,
       "version_minor": 0
      },
      "text/plain": [
       "  0%|          | 0/1000 [00:00<?, ?it/s]"
      ]
     },
     "metadata": {},
     "output_type": "display_data"
    },
    {
     "name": "stdout",
     "output_type": "stream",
     "text": [
      ">>>21 \t -8.28854e+00\n"
     ]
    },
    {
     "data": {
      "application/vnd.jupyter.widget-view+json": {
       "model_id": "2e4c589faacf481da1ffc71926cf1cad",
       "version_major": 2,
       "version_minor": 0
      },
      "text/plain": [
       "  0%|          | 0/1000 [00:00<?, ?it/s]"
      ]
     },
     "metadata": {},
     "output_type": "display_data"
    },
    {
     "name": "stdout",
     "output_type": "stream",
     "text": [
      ">>>21 \t -8.28854e+00\n",
      "GMM with 71 components\n"
     ]
    },
    {
     "data": {
      "application/vnd.jupyter.widget-view+json": {
       "model_id": "b02a78e5345742e8bb23e2fc832d68b1",
       "version_major": 2,
       "version_minor": 0
      },
      "text/plain": [
       "  0%|          | 0/1000 [00:00<?, ?it/s]"
      ]
     },
     "metadata": {},
     "output_type": "display_data"
    },
    {
     "name": "stdout",
     "output_type": "stream",
     "text": [
      ">>>25 \t -8.26326e+00\n"
     ]
    },
    {
     "data": {
      "application/vnd.jupyter.widget-view+json": {
       "model_id": "ed78e76ec7594d1c8ec75cb78bf386f1",
       "version_major": 2,
       "version_minor": 0
      },
      "text/plain": [
       "  0%|          | 0/1000 [00:00<?, ?it/s]"
      ]
     },
     "metadata": {},
     "output_type": "display_data"
    },
    {
     "name": "stdout",
     "output_type": "stream",
     "text": [
      ">>>21 \t -8.26326e+00\n"
     ]
    },
    {
     "data": {
      "application/vnd.jupyter.widget-view+json": {
       "model_id": "c4916dfd70d04ee9933e913c2ceda946",
       "version_major": 2,
       "version_minor": 0
      },
      "text/plain": [
       "  0%|          | 0/1000 [00:00<?, ?it/s]"
      ]
     },
     "metadata": {},
     "output_type": "display_data"
    },
    {
     "name": "stdout",
     "output_type": "stream",
     "text": [
      ">>>21 \t -8.26326e+00\n",
      "GMM with 35 components\n"
     ]
    },
    {
     "data": {
      "application/vnd.jupyter.widget-view+json": {
       "model_id": "777c71aa6ac1487da81d6e2063c6fa82",
       "version_major": 2,
       "version_minor": 0
      },
      "text/plain": [
       "  0%|          | 0/1000 [00:00<?, ?it/s]"
      ]
     },
     "metadata": {},
     "output_type": "display_data"
    },
    {
     "name": "stdout",
     "output_type": "stream",
     "text": [
      ">>>23 \t -8.34926e+00\n"
     ]
    },
    {
     "data": {
      "application/vnd.jupyter.widget-view+json": {
       "model_id": "247d61e9d202406e92ea70886ba2002b",
       "version_major": 2,
       "version_minor": 0
      },
      "text/plain": [
       "  0%|          | 0/1000 [00:00<?, ?it/s]"
      ]
     },
     "metadata": {},
     "output_type": "display_data"
    },
    {
     "name": "stdout",
     "output_type": "stream",
     "text": [
      ">>>21 \t -8.34926e+00\n"
     ]
    },
    {
     "data": {
      "application/vnd.jupyter.widget-view+json": {
       "model_id": "e9cf6521d88242b3924857cf83cd4f93",
       "version_major": 2,
       "version_minor": 0
      },
      "text/plain": [
       "  0%|          | 0/1000 [00:00<?, ?it/s]"
      ]
     },
     "metadata": {},
     "output_type": "display_data"
    },
    {
     "name": "stdout",
     "output_type": "stream",
     "text": [
      ">>>21 \t -8.34926e+00\n",
      "GMM with 38 components\n"
     ]
    },
    {
     "data": {
      "application/vnd.jupyter.widget-view+json": {
       "model_id": "e91867e0b5964bf38ad052ff4ca96df6",
       "version_major": 2,
       "version_minor": 0
      },
      "text/plain": [
       "  0%|          | 0/1000 [00:00<?, ?it/s]"
      ]
     },
     "metadata": {},
     "output_type": "display_data"
    },
    {
     "name": "stdout",
     "output_type": "stream",
     "text": [
      ">>>23 \t -7.88932e+00\n"
     ]
    },
    {
     "data": {
      "application/vnd.jupyter.widget-view+json": {
       "model_id": "f22f3123859e46bab593263d78b1be6b",
       "version_major": 2,
       "version_minor": 0
      },
      "text/plain": [
       "  0%|          | 0/1000 [00:00<?, ?it/s]"
      ]
     },
     "metadata": {},
     "output_type": "display_data"
    },
    {
     "name": "stdout",
     "output_type": "stream",
     "text": [
      ">>>21 \t -7.88932e+00\n"
     ]
    },
    {
     "data": {
      "application/vnd.jupyter.widget-view+json": {
       "model_id": "46cf12e6448c4c7b8088a530a78625f8",
       "version_major": 2,
       "version_minor": 0
      },
      "text/plain": [
       "  0%|          | 0/1000 [00:00<?, ?it/s]"
      ]
     },
     "metadata": {},
     "output_type": "display_data"
    },
    {
     "name": "stdout",
     "output_type": "stream",
     "text": [
      ">>>21 \t -7.88932e+00\n",
      "GMM with 87 components\n"
     ]
    },
    {
     "data": {
      "application/vnd.jupyter.widget-view+json": {
       "model_id": "d88b26aaa6444ddb89f18b719307c9c0",
       "version_major": 2,
       "version_minor": 0
      },
      "text/plain": [
       "  0%|          | 0/1000 [00:00<?, ?it/s]"
      ]
     },
     "metadata": {},
     "output_type": "display_data"
    },
    {
     "name": "stdout",
     "output_type": "stream",
     "text": [
      ">>>23 \t -7.88563e+00\n"
     ]
    },
    {
     "data": {
      "application/vnd.jupyter.widget-view+json": {
       "model_id": "1b1f2baa3e004b8aaf25bec20266ef35",
       "version_major": 2,
       "version_minor": 0
      },
      "text/plain": [
       "  0%|          | 0/1000 [00:00<?, ?it/s]"
      ]
     },
     "metadata": {},
     "output_type": "display_data"
    },
    {
     "name": "stdout",
     "output_type": "stream",
     "text": [
      ">>>21 \t -7.88563e+00\n"
     ]
    },
    {
     "data": {
      "application/vnd.jupyter.widget-view+json": {
       "model_id": "3a58554341da4bc0bb1520dbdb1c3847",
       "version_major": 2,
       "version_minor": 0
      },
      "text/plain": [
       "  0%|          | 0/1000 [00:00<?, ?it/s]"
      ]
     },
     "metadata": {},
     "output_type": "display_data"
    },
    {
     "name": "stdout",
     "output_type": "stream",
     "text": [
      ">>>21 \t -7.88563e+00\n",
      "GMM with 86 components\n"
     ]
    },
    {
     "data": {
      "application/vnd.jupyter.widget-view+json": {
       "model_id": "77966fc2380746dd8451504a43f8450b",
       "version_major": 2,
       "version_minor": 0
      },
      "text/plain": [
       "  0%|          | 0/1000 [00:00<?, ?it/s]"
      ]
     },
     "metadata": {},
     "output_type": "display_data"
    },
    {
     "name": "stdout",
     "output_type": "stream",
     "text": [
      ">>>23 \t -7.89019e+00\n"
     ]
    },
    {
     "data": {
      "application/vnd.jupyter.widget-view+json": {
       "model_id": "b0badb8f2188438e8486be26d76b3014",
       "version_major": 2,
       "version_minor": 0
      },
      "text/plain": [
       "  0%|          | 0/1000 [00:00<?, ?it/s]"
      ]
     },
     "metadata": {},
     "output_type": "display_data"
    },
    {
     "name": "stdout",
     "output_type": "stream",
     "text": [
      ">>>21 \t -7.89019e+00\n"
     ]
    },
    {
     "data": {
      "application/vnd.jupyter.widget-view+json": {
       "model_id": "77e49b87d4354a978a1d4cabd99be1fa",
       "version_major": 2,
       "version_minor": 0
      },
      "text/plain": [
       "  0%|          | 0/1000 [00:00<?, ?it/s]"
      ]
     },
     "metadata": {},
     "output_type": "display_data"
    },
    {
     "name": "stdout",
     "output_type": "stream",
     "text": [
      ">>>21 \t -7.89019e+00\n",
      "GMM with 92 components\n"
     ]
    },
    {
     "data": {
      "application/vnd.jupyter.widget-view+json": {
       "model_id": "6db7488a4ca04b62a39cc383e6a6296c",
       "version_major": 2,
       "version_minor": 0
      },
      "text/plain": [
       "  0%|          | 0/1000 [00:00<?, ?it/s]"
      ]
     },
     "metadata": {},
     "output_type": "display_data"
    },
    {
     "name": "stdout",
     "output_type": "stream",
     "text": [
      ">>>22 \t -7.58123e+00\n"
     ]
    },
    {
     "data": {
      "application/vnd.jupyter.widget-view+json": {
       "model_id": "4674c8fe4c9e4aeb878fa7652c305974",
       "version_major": 2,
       "version_minor": 0
      },
      "text/plain": [
       "  0%|          | 0/1000 [00:00<?, ?it/s]"
      ]
     },
     "metadata": {},
     "output_type": "display_data"
    },
    {
     "name": "stdout",
     "output_type": "stream",
     "text": [
      ">>>21 \t -7.58123e+00\n"
     ]
    },
    {
     "data": {
      "application/vnd.jupyter.widget-view+json": {
       "model_id": "43d4fef395474f2f83f15e1e820be56c",
       "version_major": 2,
       "version_minor": 0
      },
      "text/plain": [
       "  0%|          | 0/1000 [00:00<?, ?it/s]"
      ]
     },
     "metadata": {},
     "output_type": "display_data"
    },
    {
     "name": "stdout",
     "output_type": "stream",
     "text": [
      ">>>21 \t -7.58123e+00\n",
      "GMM with 11 components\n"
     ]
    },
    {
     "data": {
      "application/vnd.jupyter.widget-view+json": {
       "model_id": "3e6979ed2312474080612ded55ffb70d",
       "version_major": 2,
       "version_minor": 0
      },
      "text/plain": [
       "  0%|          | 0/1000 [00:00<?, ?it/s]"
      ]
     },
     "metadata": {},
     "output_type": "display_data"
    },
    {
     "name": "stdout",
     "output_type": "stream",
     "text": [
      ">>>24 \t -7.57489e+00\n"
     ]
    },
    {
     "data": {
      "application/vnd.jupyter.widget-view+json": {
       "model_id": "c106346fc46647439994c668819801d6",
       "version_major": 2,
       "version_minor": 0
      },
      "text/plain": [
       "  0%|          | 0/1000 [00:00<?, ?it/s]"
      ]
     },
     "metadata": {},
     "output_type": "display_data"
    },
    {
     "name": "stdout",
     "output_type": "stream",
     "text": [
      ">>>21 \t -7.57489e+00\n"
     ]
    },
    {
     "data": {
      "application/vnd.jupyter.widget-view+json": {
       "model_id": "3a8a4dc956604a50a058c204ee6eca3f",
       "version_major": 2,
       "version_minor": 0
      },
      "text/plain": [
       "  0%|          | 0/1000 [00:00<?, ?it/s]"
      ]
     },
     "metadata": {},
     "output_type": "display_data"
    },
    {
     "name": "stdout",
     "output_type": "stream",
     "text": [
      ">>>21 \t -7.57489e+00\n",
      "GMM with 9 components\n"
     ]
    },
    {
     "data": {
      "application/vnd.jupyter.widget-view+json": {
       "model_id": "e8dc4c337de34d3fa3977f8fff3dd6bd",
       "version_major": 2,
       "version_minor": 0
      },
      "text/plain": [
       "  0%|          | 0/1000 [00:00<?, ?it/s]"
      ]
     },
     "metadata": {},
     "output_type": "display_data"
    },
    {
     "name": "stdout",
     "output_type": "stream",
     "text": [
      ">>>23 \t -7.57362e+00\n"
     ]
    },
    {
     "data": {
      "application/vnd.jupyter.widget-view+json": {
       "model_id": "aa26aa4d8b2248adaa98742491a29884",
       "version_major": 2,
       "version_minor": 0
      },
      "text/plain": [
       "  0%|          | 0/1000 [00:00<?, ?it/s]"
      ]
     },
     "metadata": {},
     "output_type": "display_data"
    },
    {
     "name": "stdout",
     "output_type": "stream",
     "text": [
      ">>>21 \t -7.57362e+00\n"
     ]
    },
    {
     "data": {
      "application/vnd.jupyter.widget-view+json": {
       "model_id": "f8e5a8d974e345e39adb296599e62017",
       "version_major": 2,
       "version_minor": 0
      },
      "text/plain": [
       "  0%|          | 0/1000 [00:00<?, ?it/s]"
      ]
     },
     "metadata": {},
     "output_type": "display_data"
    },
    {
     "name": "stdout",
     "output_type": "stream",
     "text": [
      ">>>21 \t -7.57362e+00\n",
      "GMM with 88 components\n"
     ]
    },
    {
     "data": {
      "application/vnd.jupyter.widget-view+json": {
       "model_id": "4ff2c79a66ae45eebad29f9598b5d884",
       "version_major": 2,
       "version_minor": 0
      },
      "text/plain": [
       "  0%|          | 0/1000 [00:00<?, ?it/s]"
      ]
     },
     "metadata": {},
     "output_type": "display_data"
    },
    {
     "name": "stdout",
     "output_type": "stream",
     "text": [
      ">>>88 \t -7.78337e+00\n"
     ]
    },
    {
     "data": {
      "application/vnd.jupyter.widget-view+json": {
       "model_id": "0ca1d6a4790b49c2b83387ed35567263",
       "version_major": 2,
       "version_minor": 0
      },
      "text/plain": [
       "  0%|          | 0/1000 [00:00<?, ?it/s]"
      ]
     },
     "metadata": {},
     "output_type": "display_data"
    },
    {
     "name": "stdout",
     "output_type": "stream",
     "text": [
      ">>>21 \t -7.78337e+00\n"
     ]
    },
    {
     "data": {
      "application/vnd.jupyter.widget-view+json": {
       "model_id": "b7720612b49e4b0996a179941aa04f48",
       "version_major": 2,
       "version_minor": 0
      },
      "text/plain": [
       "  0%|          | 0/1000 [00:00<?, ?it/s]"
      ]
     },
     "metadata": {},
     "output_type": "display_data"
    },
    {
     "name": "stdout",
     "output_type": "stream",
     "text": [
      ">>>21 \t -7.78337e+00\n",
      "GMM with 47 components\n"
     ]
    },
    {
     "data": {
      "application/vnd.jupyter.widget-view+json": {
       "model_id": "48415c8ce09b4b3aa82ad2225bd3118c",
       "version_major": 2,
       "version_minor": 0
      },
      "text/plain": [
       "  0%|          | 0/1000 [00:00<?, ?it/s]"
      ]
     },
     "metadata": {},
     "output_type": "display_data"
    },
    {
     "name": "stdout",
     "output_type": "stream",
     "text": [
      ">>>69 \t -7.78686e+00\n"
     ]
    },
    {
     "data": {
      "application/vnd.jupyter.widget-view+json": {
       "model_id": "0fe95826edde44b58b46a4638186bc31",
       "version_major": 2,
       "version_minor": 0
      },
      "text/plain": [
       "  0%|          | 0/1000 [00:00<?, ?it/s]"
      ]
     },
     "metadata": {},
     "output_type": "display_data"
    },
    {
     "name": "stdout",
     "output_type": "stream",
     "text": [
      ">>>21 \t -7.78686e+00\n"
     ]
    },
    {
     "data": {
      "application/vnd.jupyter.widget-view+json": {
       "model_id": "a97c9c219c99415b9d95032a8f07f93d",
       "version_major": 2,
       "version_minor": 0
      },
      "text/plain": [
       "  0%|          | 0/1000 [00:00<?, ?it/s]"
      ]
     },
     "metadata": {},
     "output_type": "display_data"
    },
    {
     "name": "stdout",
     "output_type": "stream",
     "text": [
      ">>>21 \t -7.78686e+00\n",
      "GMM with 9 components\n"
     ]
    },
    {
     "data": {
      "application/vnd.jupyter.widget-view+json": {
       "model_id": "9ab82c759d7a410e929ecc701264346f",
       "version_major": 2,
       "version_minor": 0
      },
      "text/plain": [
       "  0%|          | 0/1000 [00:00<?, ?it/s]"
      ]
     },
     "metadata": {},
     "output_type": "display_data"
    },
    {
     "name": "stdout",
     "output_type": "stream",
     "text": [
      ">>>22 \t -7.72434e+00\n"
     ]
    },
    {
     "data": {
      "application/vnd.jupyter.widget-view+json": {
       "model_id": "e2e517a08f39478aaf4442272113b16d",
       "version_major": 2,
       "version_minor": 0
      },
      "text/plain": [
       "  0%|          | 0/1000 [00:00<?, ?it/s]"
      ]
     },
     "metadata": {},
     "output_type": "display_data"
    },
    {
     "name": "stdout",
     "output_type": "stream",
     "text": [
      ">>>21 \t -7.72434e+00\n"
     ]
    },
    {
     "data": {
      "application/vnd.jupyter.widget-view+json": {
       "model_id": "05de0fc15b584bd0bd95c3078f63f288",
       "version_major": 2,
       "version_minor": 0
      },
      "text/plain": [
       "  0%|          | 0/1000 [00:00<?, ?it/s]"
      ]
     },
     "metadata": {},
     "output_type": "display_data"
    },
    {
     "name": "stdout",
     "output_type": "stream",
     "text": [
      ">>>21 \t -7.72434e+00\n",
      "GMM with 81 components\n"
     ]
    },
    {
     "data": {
      "application/vnd.jupyter.widget-view+json": {
       "model_id": "9afb6921f7fc4d238658f754a7df3f25",
       "version_major": 2,
       "version_minor": 0
      },
      "text/plain": [
       "  0%|          | 0/1000 [00:00<?, ?it/s]"
      ]
     },
     "metadata": {},
     "output_type": "display_data"
    },
    {
     "name": "stdout",
     "output_type": "stream",
     "text": [
      ">>>24 \t -7.70351e+00\n"
     ]
    },
    {
     "data": {
      "application/vnd.jupyter.widget-view+json": {
       "model_id": "5283aaa5d5254163ba2187451fe698cf",
       "version_major": 2,
       "version_minor": 0
      },
      "text/plain": [
       "  0%|          | 0/1000 [00:00<?, ?it/s]"
      ]
     },
     "metadata": {},
     "output_type": "display_data"
    },
    {
     "name": "stdout",
     "output_type": "stream",
     "text": [
      ">>>21 \t -7.70351e+00\n"
     ]
    },
    {
     "data": {
      "application/vnd.jupyter.widget-view+json": {
       "model_id": "2826c0eee4af45be8b6d5d845f7576ff",
       "version_major": 2,
       "version_minor": 0
      },
      "text/plain": [
       "  0%|          | 0/1000 [00:00<?, ?it/s]"
      ]
     },
     "metadata": {},
     "output_type": "display_data"
    },
    {
     "name": "stdout",
     "output_type": "stream",
     "text": [
      ">>>21 \t -7.70351e+00\n",
      "GMM with 49 components\n"
     ]
    },
    {
     "data": {
      "application/vnd.jupyter.widget-view+json": {
       "model_id": "1771709ff5464e5fa485dfbe3c891bb5",
       "version_major": 2,
       "version_minor": 0
      },
      "text/plain": [
       "  0%|          | 0/1000 [00:00<?, ?it/s]"
      ]
     },
     "metadata": {},
     "output_type": "display_data"
    },
    {
     "name": "stdout",
     "output_type": "stream",
     "text": [
      ">>>25 \t -7.68307e+00\n"
     ]
    },
    {
     "data": {
      "application/vnd.jupyter.widget-view+json": {
       "model_id": "8edabe7b1e0145aeb36cde0ea89f5355",
       "version_major": 2,
       "version_minor": 0
      },
      "text/plain": [
       "  0%|          | 0/1000 [00:00<?, ?it/s]"
      ]
     },
     "metadata": {},
     "output_type": "display_data"
    },
    {
     "name": "stdout",
     "output_type": "stream",
     "text": [
      ">>>21 \t -7.68307e+00\n"
     ]
    },
    {
     "data": {
      "application/vnd.jupyter.widget-view+json": {
       "model_id": "dcc306f350ae43fd883e06a64d473c12",
       "version_major": 2,
       "version_minor": 0
      },
      "text/plain": [
       "  0%|          | 0/1000 [00:00<?, ?it/s]"
      ]
     },
     "metadata": {},
     "output_type": "display_data"
    },
    {
     "name": "stdout",
     "output_type": "stream",
     "text": [
      ">>>21 \t -7.68307e+00\n",
      "GMM with 89 components\n"
     ]
    },
    {
     "data": {
      "application/vnd.jupyter.widget-view+json": {
       "model_id": "4b0dd72d664d44f98f9dfb87462bafda",
       "version_major": 2,
       "version_minor": 0
      },
      "text/plain": [
       "  0%|          | 0/1000 [00:00<?, ?it/s]"
      ]
     },
     "metadata": {},
     "output_type": "display_data"
    },
    {
     "name": "stdout",
     "output_type": "stream",
     "text": [
      ">>>22 \t -7.73255e+00\n"
     ]
    },
    {
     "data": {
      "application/vnd.jupyter.widget-view+json": {
       "model_id": "646c093f3c134b44ac5dc57d49ebc35a",
       "version_major": 2,
       "version_minor": 0
      },
      "text/plain": [
       "  0%|          | 0/1000 [00:00<?, ?it/s]"
      ]
     },
     "metadata": {},
     "output_type": "display_data"
    },
    {
     "name": "stdout",
     "output_type": "stream",
     "text": [
      ">>>21 \t -7.73255e+00\n"
     ]
    },
    {
     "data": {
      "application/vnd.jupyter.widget-view+json": {
       "model_id": "15fd273ebb374e9191447280676a17b6",
       "version_major": 2,
       "version_minor": 0
      },
      "text/plain": [
       "  0%|          | 0/1000 [00:00<?, ?it/s]"
      ]
     },
     "metadata": {},
     "output_type": "display_data"
    },
    {
     "name": "stdout",
     "output_type": "stream",
     "text": [
      ">>>21 \t -7.73255e+00\n",
      "GMM with 89 components\n"
     ]
    },
    {
     "data": {
      "application/vnd.jupyter.widget-view+json": {
       "model_id": "e7ab2de5b05447999bdb02f5d4c6f7b9",
       "version_major": 2,
       "version_minor": 0
      },
      "text/plain": [
       "  0%|          | 0/1000 [00:00<?, ?it/s]"
      ]
     },
     "metadata": {},
     "output_type": "display_data"
    },
    {
     "name": "stdout",
     "output_type": "stream",
     "text": [
      ">>>22 \t -7.65112e+00\n"
     ]
    },
    {
     "data": {
      "application/vnd.jupyter.widget-view+json": {
       "model_id": "75e8748520304ced911c0e343eebe40f",
       "version_major": 2,
       "version_minor": 0
      },
      "text/plain": [
       "  0%|          | 0/1000 [00:00<?, ?it/s]"
      ]
     },
     "metadata": {},
     "output_type": "display_data"
    },
    {
     "name": "stdout",
     "output_type": "stream",
     "text": [
      ">>>21 \t -7.65112e+00\n"
     ]
    },
    {
     "data": {
      "application/vnd.jupyter.widget-view+json": {
       "model_id": "173e374321c74d04add9e16592c1bc72",
       "version_major": 2,
       "version_minor": 0
      },
      "text/plain": [
       "  0%|          | 0/1000 [00:00<?, ?it/s]"
      ]
     },
     "metadata": {},
     "output_type": "display_data"
    },
    {
     "name": "stdout",
     "output_type": "stream",
     "text": [
      ">>>21 \t -7.65112e+00\n",
      "GMM with 47 components\n"
     ]
    },
    {
     "data": {
      "application/vnd.jupyter.widget-view+json": {
       "model_id": "49049e92f43a4ec29f1dd2369b898a4c",
       "version_major": 2,
       "version_minor": 0
      },
      "text/plain": [
       "  0%|          | 0/1000 [00:00<?, ?it/s]"
      ]
     },
     "metadata": {},
     "output_type": "display_data"
    },
    {
     "name": "stdout",
     "output_type": "stream",
     "text": [
      ">>>22 \t -7.59573e+00\n"
     ]
    },
    {
     "data": {
      "application/vnd.jupyter.widget-view+json": {
       "model_id": "5f750838a3b442bea9a6268f0cff6352",
       "version_major": 2,
       "version_minor": 0
      },
      "text/plain": [
       "  0%|          | 0/1000 [00:00<?, ?it/s]"
      ]
     },
     "metadata": {},
     "output_type": "display_data"
    },
    {
     "name": "stdout",
     "output_type": "stream",
     "text": [
      ">>>21 \t -7.59573e+00\n"
     ]
    },
    {
     "data": {
      "application/vnd.jupyter.widget-view+json": {
       "model_id": "f30c29a2f43b4e54b2b47ecf582882c4",
       "version_major": 2,
       "version_minor": 0
      },
      "text/plain": [
       "  0%|          | 0/1000 [00:00<?, ?it/s]"
      ]
     },
     "metadata": {},
     "output_type": "display_data"
    },
    {
     "name": "stdout",
     "output_type": "stream",
     "text": [
      ">>>21 \t -7.59573e+00\n",
      "GMM with 14 components\n"
     ]
    },
    {
     "data": {
      "application/vnd.jupyter.widget-view+json": {
       "model_id": "60535ed2fd8e49de9b16cfeec2985e72",
       "version_major": 2,
       "version_minor": 0
      },
      "text/plain": [
       "  0%|          | 0/1000 [00:00<?, ?it/s]"
      ]
     },
     "metadata": {},
     "output_type": "display_data"
    },
    {
     "name": "stdout",
     "output_type": "stream",
     "text": [
      ">>>24 \t -7.59321e+00\n"
     ]
    },
    {
     "data": {
      "application/vnd.jupyter.widget-view+json": {
       "model_id": "b96b9e14e30149aaa90f168d600b90e1",
       "version_major": 2,
       "version_minor": 0
      },
      "text/plain": [
       "  0%|          | 0/1000 [00:00<?, ?it/s]"
      ]
     },
     "metadata": {},
     "output_type": "display_data"
    },
    {
     "name": "stdout",
     "output_type": "stream",
     "text": [
      ">>>21 \t -7.59321e+00\n"
     ]
    },
    {
     "data": {
      "application/vnd.jupyter.widget-view+json": {
       "model_id": "13ed1f03fc8a4baebcdd04e05f3ebc03",
       "version_major": 2,
       "version_minor": 0
      },
      "text/plain": [
       "  0%|          | 0/1000 [00:00<?, ?it/s]"
      ]
     },
     "metadata": {},
     "output_type": "display_data"
    },
    {
     "name": "stdout",
     "output_type": "stream",
     "text": [
      ">>>21 \t -7.59321e+00\n",
      "GMM with 6 components\n"
     ]
    },
    {
     "data": {
      "application/vnd.jupyter.widget-view+json": {
       "model_id": "49ee4527f6324d8cb36d2aebe8a29420",
       "version_major": 2,
       "version_minor": 0
      },
      "text/plain": [
       "  0%|          | 0/1000 [00:00<?, ?it/s]"
      ]
     },
     "metadata": {},
     "output_type": "display_data"
    },
    {
     "name": "stdout",
     "output_type": "stream",
     "text": [
      ">>>59 \t -7.88521e+00\n"
     ]
    },
    {
     "data": {
      "application/vnd.jupyter.widget-view+json": {
       "model_id": "5f6c3e1f33034fb19cfba462416b0a23",
       "version_major": 2,
       "version_minor": 0
      },
      "text/plain": [
       "  0%|          | 0/1000 [00:00<?, ?it/s]"
      ]
     },
     "metadata": {},
     "output_type": "display_data"
    },
    {
     "name": "stdout",
     "output_type": "stream",
     "text": [
      ">>>21 \t -7.88521e+00\n"
     ]
    },
    {
     "data": {
      "application/vnd.jupyter.widget-view+json": {
       "model_id": "3cc615746c5e4ca3b6b7aa56c4cdfe8d",
       "version_major": 2,
       "version_minor": 0
      },
      "text/plain": [
       "  0%|          | 0/1000 [00:00<?, ?it/s]"
      ]
     },
     "metadata": {},
     "output_type": "display_data"
    },
    {
     "name": "stdout",
     "output_type": "stream",
     "text": [
      ">>>21 \t -7.88521e+00\n",
      "GMM with 24 components\n"
     ]
    },
    {
     "data": {
      "application/vnd.jupyter.widget-view+json": {
       "model_id": "a90c49e7364b43c99a69187d3414c1d1",
       "version_major": 2,
       "version_minor": 0
      },
      "text/plain": [
       "  0%|          | 0/1000 [00:00<?, ?it/s]"
      ]
     },
     "metadata": {},
     "output_type": "display_data"
    },
    {
     "name": "stdout",
     "output_type": "stream",
     "text": [
      ">>>23 \t -7.75084e+00\n"
     ]
    },
    {
     "data": {
      "application/vnd.jupyter.widget-view+json": {
       "model_id": "dbb1e3277b0543e9badac36bddf58f2b",
       "version_major": 2,
       "version_minor": 0
      },
      "text/plain": [
       "  0%|          | 0/1000 [00:00<?, ?it/s]"
      ]
     },
     "metadata": {},
     "output_type": "display_data"
    },
    {
     "name": "stdout",
     "output_type": "stream",
     "text": [
      ">>>21 \t -7.75084e+00\n"
     ]
    },
    {
     "data": {
      "application/vnd.jupyter.widget-view+json": {
       "model_id": "ea4c2b1d0ef7486aabbe4a1962f36b13",
       "version_major": 2,
       "version_minor": 0
      },
      "text/plain": [
       "  0%|          | 0/1000 [00:00<?, ?it/s]"
      ]
     },
     "metadata": {},
     "output_type": "display_data"
    },
    {
     "name": "stdout",
     "output_type": "stream",
     "text": [
      ">>>21 \t -7.75084e+00\n",
      "GMM with 50 components\n"
     ]
    },
    {
     "data": {
      "application/vnd.jupyter.widget-view+json": {
       "model_id": "48d73b49e143419fadb5c9d2aa667c9c",
       "version_major": 2,
       "version_minor": 0
      },
      "text/plain": [
       "  0%|          | 0/1000 [00:00<?, ?it/s]"
      ]
     },
     "metadata": {},
     "output_type": "display_data"
    },
    {
     "name": "stdout",
     "output_type": "stream",
     "text": [
      ">>>23 \t -7.83295e+00\n"
     ]
    },
    {
     "data": {
      "application/vnd.jupyter.widget-view+json": {
       "model_id": "aa85873cb20b45a7811ba9d976db0011",
       "version_major": 2,
       "version_minor": 0
      },
      "text/plain": [
       "  0%|          | 0/1000 [00:00<?, ?it/s]"
      ]
     },
     "metadata": {},
     "output_type": "display_data"
    },
    {
     "name": "stdout",
     "output_type": "stream",
     "text": [
      ">>>21 \t -7.83295e+00\n"
     ]
    },
    {
     "data": {
      "application/vnd.jupyter.widget-view+json": {
       "model_id": "3784695e2b8545049dbd01c09d15f55c",
       "version_major": 2,
       "version_minor": 0
      },
      "text/plain": [
       "  0%|          | 0/1000 [00:00<?, ?it/s]"
      ]
     },
     "metadata": {},
     "output_type": "display_data"
    },
    {
     "name": "stdout",
     "output_type": "stream",
     "text": [
      ">>>21 \t -7.83295e+00\n",
      "GMM with 55 components\n"
     ]
    },
    {
     "data": {
      "application/vnd.jupyter.widget-view+json": {
       "model_id": "e4151676499b44028d09d93a05430a4d",
       "version_major": 2,
       "version_minor": 0
      },
      "text/plain": [
       "  0%|          | 0/1000 [00:00<?, ?it/s]"
      ]
     },
     "metadata": {},
     "output_type": "display_data"
    },
    {
     "name": "stdout",
     "output_type": "stream",
     "text": [
      ">>>24 \t -8.11056e+00\n"
     ]
    },
    {
     "data": {
      "application/vnd.jupyter.widget-view+json": {
       "model_id": "847525c6b2e642a9b5a6e59a7eaba559",
       "version_major": 2,
       "version_minor": 0
      },
      "text/plain": [
       "  0%|          | 0/1000 [00:00<?, ?it/s]"
      ]
     },
     "metadata": {},
     "output_type": "display_data"
    },
    {
     "name": "stdout",
     "output_type": "stream",
     "text": [
      ">>>21 \t -8.11056e+00\n"
     ]
    },
    {
     "data": {
      "application/vnd.jupyter.widget-view+json": {
       "model_id": "16e5cd7c5002418885b8c4d26dc9a86a",
       "version_major": 2,
       "version_minor": 0
      },
      "text/plain": [
       "  0%|          | 0/1000 [00:00<?, ?it/s]"
      ]
     },
     "metadata": {},
     "output_type": "display_data"
    },
    {
     "name": "stdout",
     "output_type": "stream",
     "text": [
      ">>>21 \t -8.11056e+00\n",
      "GMM with 89 components\n"
     ]
    },
    {
     "data": {
      "application/vnd.jupyter.widget-view+json": {
       "model_id": "f0fedb28548c4ece81d43b69036eea5c",
       "version_major": 2,
       "version_minor": 0
      },
      "text/plain": [
       "  0%|          | 0/1000 [00:00<?, ?it/s]"
      ]
     },
     "metadata": {},
     "output_type": "display_data"
    },
    {
     "name": "stdout",
     "output_type": "stream",
     "text": [
      ">>>24 \t -8.01223e+00\n"
     ]
    },
    {
     "data": {
      "application/vnd.jupyter.widget-view+json": {
       "model_id": "3becdd6e7fc04f40a814318197d90690",
       "version_major": 2,
       "version_minor": 0
      },
      "text/plain": [
       "  0%|          | 0/1000 [00:00<?, ?it/s]"
      ]
     },
     "metadata": {},
     "output_type": "display_data"
    },
    {
     "name": "stdout",
     "output_type": "stream",
     "text": [
      ">>>21 \t -8.01223e+00\n"
     ]
    },
    {
     "data": {
      "application/vnd.jupyter.widget-view+json": {
       "model_id": "c444c74aa65d4d7f86e3f585f45cd572",
       "version_major": 2,
       "version_minor": 0
      },
      "text/plain": [
       "  0%|          | 0/1000 [00:00<?, ?it/s]"
      ]
     },
     "metadata": {},
     "output_type": "display_data"
    },
    {
     "name": "stdout",
     "output_type": "stream",
     "text": [
      ">>>21 \t -8.01223e+00\n",
      "GMM with 42 components\n"
     ]
    },
    {
     "data": {
      "application/vnd.jupyter.widget-view+json": {
       "model_id": "15808a881ffb4e1db4f048aba4b2ba8c",
       "version_major": 2,
       "version_minor": 0
      },
      "text/plain": [
       "  0%|          | 0/1000 [00:00<?, ?it/s]"
      ]
     },
     "metadata": {},
     "output_type": "display_data"
    },
    {
     "name": "stdout",
     "output_type": "stream",
     "text": [
      ">>>26 \t -7.98429e+00\n"
     ]
    },
    {
     "data": {
      "application/vnd.jupyter.widget-view+json": {
       "model_id": "ec13dc414ee44aa0a91d4965775cf088",
       "version_major": 2,
       "version_minor": 0
      },
      "text/plain": [
       "  0%|          | 0/1000 [00:00<?, ?it/s]"
      ]
     },
     "metadata": {},
     "output_type": "display_data"
    },
    {
     "name": "stdout",
     "output_type": "stream",
     "text": [
      ">>>21 \t -7.98429e+00\n"
     ]
    },
    {
     "data": {
      "application/vnd.jupyter.widget-view+json": {
       "model_id": "a3d2e20f314e4c8aae71d6ef858d1336",
       "version_major": 2,
       "version_minor": 0
      },
      "text/plain": [
       "  0%|          | 0/1000 [00:00<?, ?it/s]"
      ]
     },
     "metadata": {},
     "output_type": "display_data"
    },
    {
     "name": "stdout",
     "output_type": "stream",
     "text": [
      ">>>21 \t -7.98429e+00\n",
      "GMM with 12 components\n"
     ]
    },
    {
     "data": {
      "application/vnd.jupyter.widget-view+json": {
       "model_id": "180aa947fff44fd591b9fa74e09e16ac",
       "version_major": 2,
       "version_minor": 0
      },
      "text/plain": [
       "  0%|          | 0/1000 [00:00<?, ?it/s]"
      ]
     },
     "metadata": {},
     "output_type": "display_data"
    },
    {
     "name": "stdout",
     "output_type": "stream",
     "text": [
      ">>>23 \t -5.27371e+00\n"
     ]
    },
    {
     "data": {
      "application/vnd.jupyter.widget-view+json": {
       "model_id": "c82e57d1874b411b8ecaae2b22d52c0f",
       "version_major": 2,
       "version_minor": 0
      },
      "text/plain": [
       "  0%|          | 0/1000 [00:00<?, ?it/s]"
      ]
     },
     "metadata": {},
     "output_type": "display_data"
    },
    {
     "name": "stdout",
     "output_type": "stream",
     "text": [
      ">>>21 \t -5.27371e+00\n"
     ]
    },
    {
     "data": {
      "application/vnd.jupyter.widget-view+json": {
       "model_id": "af57f6915fe941d3876316218ace174e",
       "version_major": 2,
       "version_minor": 0
      },
      "text/plain": [
       "  0%|          | 0/1000 [00:00<?, ?it/s]"
      ]
     },
     "metadata": {},
     "output_type": "display_data"
    },
    {
     "name": "stdout",
     "output_type": "stream",
     "text": [
      ">>>21 \t -5.27371e+00\n",
      "GMM with 96 components\n"
     ]
    },
    {
     "data": {
      "application/vnd.jupyter.widget-view+json": {
       "model_id": "cf098d9933b74f53b9af31805cf6ed28",
       "version_major": 2,
       "version_minor": 0
      },
      "text/plain": [
       "  0%|          | 0/1000 [00:00<?, ?it/s]"
      ]
     },
     "metadata": {},
     "output_type": "display_data"
    },
    {
     "name": "stdout",
     "output_type": "stream",
     "text": [
      ">>>38 \t -5.32631e+00\n"
     ]
    },
    {
     "data": {
      "application/vnd.jupyter.widget-view+json": {
       "model_id": "7f923773f2a845adb485b96a5b539787",
       "version_major": 2,
       "version_minor": 0
      },
      "text/plain": [
       "  0%|          | 0/1000 [00:00<?, ?it/s]"
      ]
     },
     "metadata": {},
     "output_type": "display_data"
    },
    {
     "name": "stdout",
     "output_type": "stream",
     "text": [
      ">>>21 \t -5.32631e+00\n"
     ]
    },
    {
     "data": {
      "application/vnd.jupyter.widget-view+json": {
       "model_id": "278647b34c13424598addb77fc52ee0c",
       "version_major": 2,
       "version_minor": 0
      },
      "text/plain": [
       "  0%|          | 0/1000 [00:00<?, ?it/s]"
      ]
     },
     "metadata": {},
     "output_type": "display_data"
    },
    {
     "name": "stdout",
     "output_type": "stream",
     "text": [
      ">>>21 \t -5.32631e+00\n",
      "GMM with 46 components\n"
     ]
    },
    {
     "data": {
      "application/vnd.jupyter.widget-view+json": {
       "model_id": "618f5c82c2a04b788c9d23df5f2c0bab",
       "version_major": 2,
       "version_minor": 0
      },
      "text/plain": [
       "  0%|          | 0/1000 [00:00<?, ?it/s]"
      ]
     },
     "metadata": {},
     "output_type": "display_data"
    },
    {
     "name": "stdout",
     "output_type": "stream",
     "text": [
      ">>>51 \t -5.32824e+00\n"
     ]
    },
    {
     "data": {
      "application/vnd.jupyter.widget-view+json": {
       "model_id": "8e92fa6006ca4fa8be8c2cfbbb9102cf",
       "version_major": 2,
       "version_minor": 0
      },
      "text/plain": [
       "  0%|          | 0/1000 [00:00<?, ?it/s]"
      ]
     },
     "metadata": {},
     "output_type": "display_data"
    },
    {
     "name": "stdout",
     "output_type": "stream",
     "text": [
      ">>>21 \t -5.32824e+00\n"
     ]
    },
    {
     "data": {
      "application/vnd.jupyter.widget-view+json": {
       "model_id": "b78feafda059461d8a461e8bf74b1f06",
       "version_major": 2,
       "version_minor": 0
      },
      "text/plain": [
       "  0%|          | 0/1000 [00:00<?, ?it/s]"
      ]
     },
     "metadata": {},
     "output_type": "display_data"
    },
    {
     "name": "stdout",
     "output_type": "stream",
     "text": [
      ">>>21 \t -5.32824e+00\n",
      "GMM with 55 components\n"
     ]
    },
    {
     "data": {
      "application/vnd.jupyter.widget-view+json": {
       "model_id": "aee5e28d697741c1a7c42562f26ab791",
       "version_major": 2,
       "version_minor": 0
      },
      "text/plain": [
       "  0%|          | 0/1000 [00:00<?, ?it/s]"
      ]
     },
     "metadata": {},
     "output_type": "display_data"
    },
    {
     "name": "stdout",
     "output_type": "stream",
     "text": [
      ">>>55 \t -8.98682e+00\n"
     ]
    },
    {
     "data": {
      "application/vnd.jupyter.widget-view+json": {
       "model_id": "9aaac908c8af49e1bdca5bf6d5e69c5c",
       "version_major": 2,
       "version_minor": 0
      },
      "text/plain": [
       "  0%|          | 0/1000 [00:00<?, ?it/s]"
      ]
     },
     "metadata": {},
     "output_type": "display_data"
    },
    {
     "name": "stdout",
     "output_type": "stream",
     "text": [
      ">>>21 \t -8.98682e+00\n"
     ]
    },
    {
     "data": {
      "application/vnd.jupyter.widget-view+json": {
       "model_id": "259df022b0584a22a0808a149e0fd0c8",
       "version_major": 2,
       "version_minor": 0
      },
      "text/plain": [
       "  0%|          | 0/1000 [00:00<?, ?it/s]"
      ]
     },
     "metadata": {},
     "output_type": "display_data"
    },
    {
     "name": "stdout",
     "output_type": "stream",
     "text": [
      ">>>21 \t -8.98682e+00\n",
      "GMM with 12 components\n"
     ]
    },
    {
     "data": {
      "application/vnd.jupyter.widget-view+json": {
       "model_id": "6fe7e120d62b439a9f46e1ac5fd650b8",
       "version_major": 2,
       "version_minor": 0
      },
      "text/plain": [
       "  0%|          | 0/1000 [00:00<?, ?it/s]"
      ]
     },
     "metadata": {},
     "output_type": "display_data"
    },
    {
     "name": "stdout",
     "output_type": "stream",
     "text": [
      ">>>32 \t -8.84537e+00\n"
     ]
    },
    {
     "data": {
      "application/vnd.jupyter.widget-view+json": {
       "model_id": "8a8109c5e4fc47b4a8153aba5f5da336",
       "version_major": 2,
       "version_minor": 0
      },
      "text/plain": [
       "  0%|          | 0/1000 [00:00<?, ?it/s]"
      ]
     },
     "metadata": {},
     "output_type": "display_data"
    },
    {
     "name": "stdout",
     "output_type": "stream",
     "text": [
      ">>>21 \t -8.84537e+00\n"
     ]
    },
    {
     "data": {
      "application/vnd.jupyter.widget-view+json": {
       "model_id": "d8df961de73e4c5ba4520b47af4daee6",
       "version_major": 2,
       "version_minor": 0
      },
      "text/plain": [
       "  0%|          | 0/1000 [00:00<?, ?it/s]"
      ]
     },
     "metadata": {},
     "output_type": "display_data"
    },
    {
     "name": "stdout",
     "output_type": "stream",
     "text": [
      ">>>21 \t -8.84537e+00\n",
      "GMM with 51 components\n"
     ]
    },
    {
     "data": {
      "application/vnd.jupyter.widget-view+json": {
       "model_id": "953c9f824ca841289a340ce7bb2d794c",
       "version_major": 2,
       "version_minor": 0
      },
      "text/plain": [
       "  0%|          | 0/1000 [00:00<?, ?it/s]"
      ]
     },
     "metadata": {},
     "output_type": "display_data"
    },
    {
     "name": "stdout",
     "output_type": "stream",
     "text": [
      ">>>102 \t -9.10760e+00\n"
     ]
    },
    {
     "data": {
      "application/vnd.jupyter.widget-view+json": {
       "model_id": "973331e3be9e4daba8632d7154e7e3d7",
       "version_major": 2,
       "version_minor": 0
      },
      "text/plain": [
       "  0%|          | 0/1000 [00:00<?, ?it/s]"
      ]
     },
     "metadata": {},
     "output_type": "display_data"
    },
    {
     "name": "stdout",
     "output_type": "stream",
     "text": [
      ">>>21 \t -9.10760e+00\n"
     ]
    },
    {
     "data": {
      "application/vnd.jupyter.widget-view+json": {
       "model_id": "07fb7b669e244a3680afe4a7e0bcebb2",
       "version_major": 2,
       "version_minor": 0
      },
      "text/plain": [
       "  0%|          | 0/1000 [00:00<?, ?it/s]"
      ]
     },
     "metadata": {},
     "output_type": "display_data"
    },
    {
     "name": "stdout",
     "output_type": "stream",
     "text": [
      ">>>21 \t -9.10760e+00\n",
      "GMM with 25 components\n"
     ]
    },
    {
     "data": {
      "application/vnd.jupyter.widget-view+json": {
       "model_id": "d524918426af4c6fafb5195a28e1a8f4",
       "version_major": 2,
       "version_minor": 0
      },
      "text/plain": [
       "  0%|          | 0/1000 [00:00<?, ?it/s]"
      ]
     },
     "metadata": {},
     "output_type": "display_data"
    },
    {
     "name": "stdout",
     "output_type": "stream",
     "text": [
      ">>>54 \t -5.37112e+00\n"
     ]
    },
    {
     "data": {
      "application/vnd.jupyter.widget-view+json": {
       "model_id": "96549a743ca74df2886a4d15f374db4f",
       "version_major": 2,
       "version_minor": 0
      },
      "text/plain": [
       "  0%|          | 0/1000 [00:00<?, ?it/s]"
      ]
     },
     "metadata": {},
     "output_type": "display_data"
    },
    {
     "name": "stdout",
     "output_type": "stream",
     "text": [
      ">>>21 \t -5.37112e+00\n"
     ]
    },
    {
     "data": {
      "application/vnd.jupyter.widget-view+json": {
       "model_id": "a8af16fb712b4570b87b94ef2a811428",
       "version_major": 2,
       "version_minor": 0
      },
      "text/plain": [
       "  0%|          | 0/1000 [00:00<?, ?it/s]"
      ]
     },
     "metadata": {},
     "output_type": "display_data"
    },
    {
     "name": "stdout",
     "output_type": "stream",
     "text": [
      ">>>21 \t -5.37112e+00\n",
      "GMM with 65 components\n"
     ]
    },
    {
     "data": {
      "application/vnd.jupyter.widget-view+json": {
       "model_id": "592f046e99124944be616bfea31238b7",
       "version_major": 2,
       "version_minor": 0
      },
      "text/plain": [
       "  0%|          | 0/1000 [00:00<?, ?it/s]"
      ]
     },
     "metadata": {},
     "output_type": "display_data"
    },
    {
     "name": "stdout",
     "output_type": "stream",
     "text": [
      ">>>50 \t -5.37725e+00\n"
     ]
    },
    {
     "data": {
      "application/vnd.jupyter.widget-view+json": {
       "model_id": "731378df060f45499ad318d283600af3",
       "version_major": 2,
       "version_minor": 0
      },
      "text/plain": [
       "  0%|          | 0/1000 [00:00<?, ?it/s]"
      ]
     },
     "metadata": {},
     "output_type": "display_data"
    },
    {
     "name": "stdout",
     "output_type": "stream",
     "text": [
      ">>>21 \t -5.37725e+00\n"
     ]
    },
    {
     "data": {
      "application/vnd.jupyter.widget-view+json": {
       "model_id": "209970f2e4574c3888e6ac94e203b3bf",
       "version_major": 2,
       "version_minor": 0
      },
      "text/plain": [
       "  0%|          | 0/1000 [00:00<?, ?it/s]"
      ]
     },
     "metadata": {},
     "output_type": "display_data"
    },
    {
     "name": "stdout",
     "output_type": "stream",
     "text": [
      ">>>21 \t -5.37725e+00\n",
      "GMM with 32 components\n"
     ]
    },
    {
     "data": {
      "application/vnd.jupyter.widget-view+json": {
       "model_id": "debd485efead416fb8da121c91cdf0cd",
       "version_major": 2,
       "version_minor": 0
      },
      "text/plain": [
       "  0%|          | 0/1000 [00:00<?, ?it/s]"
      ]
     },
     "metadata": {},
     "output_type": "display_data"
    },
    {
     "name": "stdout",
     "output_type": "stream",
     "text": [
      ">>>68 \t -5.36704e+00\n"
     ]
    },
    {
     "data": {
      "application/vnd.jupyter.widget-view+json": {
       "model_id": "99be8817ad7548488654415fb6545c27",
       "version_major": 2,
       "version_minor": 0
      },
      "text/plain": [
       "  0%|          | 0/1000 [00:00<?, ?it/s]"
      ]
     },
     "metadata": {},
     "output_type": "display_data"
    },
    {
     "name": "stdout",
     "output_type": "stream",
     "text": [
      ">>>21 \t -5.36704e+00\n"
     ]
    },
    {
     "data": {
      "application/vnd.jupyter.widget-view+json": {
       "model_id": "3c7276a9e0104a76ab24980dace4af4a",
       "version_major": 2,
       "version_minor": 0
      },
      "text/plain": [
       "  0%|          | 0/1000 [00:00<?, ?it/s]"
      ]
     },
     "metadata": {},
     "output_type": "display_data"
    },
    {
     "name": "stdout",
     "output_type": "stream",
     "text": [
      ">>>21 \t -5.36704e+00\n",
      "GMM with 16 components\n"
     ]
    },
    {
     "data": {
      "application/vnd.jupyter.widget-view+json": {
       "model_id": "32905c80ce514329bcc4c70ba9c01ba2",
       "version_major": 2,
       "version_minor": 0
      },
      "text/plain": [
       "  0%|          | 0/1000 [00:00<?, ?it/s]"
      ]
     },
     "metadata": {},
     "output_type": "display_data"
    },
    {
     "name": "stdout",
     "output_type": "stream",
     "text": [
      ">>>48 \t -5.39022e+00\n"
     ]
    },
    {
     "data": {
      "application/vnd.jupyter.widget-view+json": {
       "model_id": "7278866ab1774e06a3e3f583be27da15",
       "version_major": 2,
       "version_minor": 0
      },
      "text/plain": [
       "  0%|          | 0/1000 [00:00<?, ?it/s]"
      ]
     },
     "metadata": {},
     "output_type": "display_data"
    },
    {
     "name": "stdout",
     "output_type": "stream",
     "text": [
      ">>>21 \t -5.39022e+00\n"
     ]
    },
    {
     "data": {
      "application/vnd.jupyter.widget-view+json": {
       "model_id": "ec79d1d8442048e5a4956d0f56835f9c",
       "version_major": 2,
       "version_minor": 0
      },
      "text/plain": [
       "  0%|          | 0/1000 [00:00<?, ?it/s]"
      ]
     },
     "metadata": {},
     "output_type": "display_data"
    },
    {
     "name": "stdout",
     "output_type": "stream",
     "text": [
      ">>>21 \t -5.39022e+00\n",
      "GMM with 35 components\n"
     ]
    },
    {
     "data": {
      "application/vnd.jupyter.widget-view+json": {
       "model_id": "9b2346da7c8b4cffb46759f9a3a9a3ae",
       "version_major": 2,
       "version_minor": 0
      },
      "text/plain": [
       "  0%|          | 0/1000 [00:00<?, ?it/s]"
      ]
     },
     "metadata": {},
     "output_type": "display_data"
    },
    {
     "name": "stdout",
     "output_type": "stream",
     "text": [
      ">>>37 \t -5.38035e+00\n"
     ]
    },
    {
     "data": {
      "application/vnd.jupyter.widget-view+json": {
       "model_id": "b21bde2e64844d6f9401fa69c22cd7ed",
       "version_major": 2,
       "version_minor": 0
      },
      "text/plain": [
       "  0%|          | 0/1000 [00:00<?, ?it/s]"
      ]
     },
     "metadata": {},
     "output_type": "display_data"
    },
    {
     "name": "stdout",
     "output_type": "stream",
     "text": [
      ">>>21 \t -5.38035e+00\n"
     ]
    },
    {
     "data": {
      "application/vnd.jupyter.widget-view+json": {
       "model_id": "763b4f3b14ec44eb8631fcdbbf248c70",
       "version_major": 2,
       "version_minor": 0
      },
      "text/plain": [
       "  0%|          | 0/1000 [00:00<?, ?it/s]"
      ]
     },
     "metadata": {},
     "output_type": "display_data"
    }
   ],
   "source": [
    "num_iter = 1000\n",
    "patience = 20\n",
    "\n",
    "for zmin, zmax in zip(zmins[:5], zmaxs[:5]):\n",
    "    for i_jack, field in enumerate(fields): # loop through jackknife fields\n",
    "        fgmm = os.path.join(dat_dir, 'psmf.gmm.bgs_bright.z%.2f_%.2f.jack%i.best.pt' % (zmin, zmax, i_jack))\n",
    "        \n",
    "        # Vmax based importance weights\n",
    "        zlim = (bgs['Z_HP'].data > zmin) & (bgs['Z_HP'].data < zmax) & ~field & (bgs['provabgs_w_zfail'].data > 0)\n",
    "\n",
    "        v_zmin = Planck13.comoving_volume(zmin).value * Planck13.h**3 * f_area # (Mpc/h)^3\n",
    "        v_zmax = Planck13.comoving_volume(zmax).value * Planck13.h**3 * f_area # (Mpc/h)^3\n",
    "\n",
    "        w_import = (v_zmax - v_zmin) / (vmaxes.clip(v_zmin, v_zmax) - v_zmin) \n",
    "        w_import *= bgs['provabgs_w_zfail'].data * bgs['provabgs_w_fibassign'].data\n",
    "\n",
    "        x_data = torch.tensor(logM_posteriors[zlim].astype(np.float32)).to(device)\n",
    "        w_data = torch.tensor(w_import[zlim].astype(np.float32)).to(device)\n",
    "\n",
    "        batch_size = 128\n",
    "        Ntrain = int(0.9 * x_data.shape[0])\n",
    "        Nvalid = x_data.shape[0] - Ntrain # int(0.1 * x_data.shape[0])\n",
    "\n",
    "        trainloader = torch.utils.data.DataLoader(\n",
    "                torch.utils.data.TensorDataset(x_data[:Ntrain], w_data[:Ntrain]),\n",
    "                batch_size=batch_size,\n",
    "                shuffle=True)\n",
    "\n",
    "        validloader = torch.utils.data.DataLoader(\n",
    "                torch.utils.data.TensorDataset(x_data[Ntrain:], w_data[Ntrain:]),\n",
    "                batch_size=batch_size)\n",
    "\n",
    "        best_flows, best_valid_losses = [], []\n",
    "        for i in range(3): \n",
    "            ncomp = int(np.random.uniform(5, 100))\n",
    "            flow = GaussianMixtureModel(n_components=ncomp, \n",
    "                                        mmin=logM_posteriors[zlim].min(), \n",
    "                                        mmax=logM_posteriors[zlim].max())\n",
    "            flow.to(device)\n",
    "            print('GMM with %i components' % ncomp)\n",
    "            \n",
    "            best_valid_loss = np.inf\n",
    "            valid_losses = [] \n",
    "            for lr in [1e-2, 1e-3, 1e-4]:\n",
    "                optimizer = optim.Adam(flow.parameters(), lr=lr)\n",
    "                best_epoch = 0\n",
    "\n",
    "                t = trange(num_iter, leave=False)\n",
    "                for epoch in t:\n",
    "                    train_loss = 0.\n",
    "                    for batch in trainloader: \n",
    "                        optimizer.zero_grad()\n",
    "                        _post, _w = batch\n",
    "                        _post = _post.to(device)\n",
    "                        _w = _w.to(device)\n",
    "\n",
    "                        loss = Loss(flow, _post, _w)\n",
    "                        loss.backward()\n",
    "                        train_loss += loss.item()\n",
    "                        optimizer.step()\n",
    "                    train_loss /= len(trainloader.dataset)\n",
    "\n",
    "                    with torch.no_grad():\n",
    "                        valid_loss = 0.\n",
    "                        for batch in validloader: \n",
    "                            _post, _w = batch\n",
    "                            _post = _post.to(device)\n",
    "                            _w = _w.to(device)\n",
    "\n",
    "                            loss = Loss(flow, _post, _w)                \n",
    "                            valid_loss += loss.item()\n",
    "                        valid_loss /= len(validloader.dataset)           \n",
    "                        valid_losses.append(valid_loss)\n",
    "\n",
    "                    t.set_description('Epoch: %i TRAINING Loss: %.2e VALIDATION Loss: %.2e' % \n",
    "                                      (epoch, train_loss, valid_loss), refresh=False)\n",
    "\n",
    "                    if valid_loss < best_valid_loss: \n",
    "                        best_valid_loss = valid_loss\n",
    "                        best_epoch = epoch\n",
    "                        best_flow = copy.deepcopy(flow)\n",
    "                    else: \n",
    "                        if best_epoch < epoch - patience: \n",
    "                            print('>>>%i \\t %.5e' % (epoch, best_valid_loss))\n",
    "                            break\n",
    "\n",
    "            best_flows.append(best_flow)\n",
    "            best_valid_losses.append(best_valid_loss)\n",
    "            \n",
    "        ibest = np.argmin(best_valid_losses)\n",
    "        torch.save(best_flows[ibest], fgmm)"
   ]
  },
  {
   "cell_type": "code",
   "execution_count": null,
   "id": "955f0568",
   "metadata": {},
   "outputs": [],
   "source": [
    "m13_logms = np.linspace(9., 12., 31) + np.log10((Planck13.h / 0.7)**2)\n",
    "m13_logsmf = np.array([-1.899, -1.923, -1.970, -2.031, -2.055, -2.106, -2.144, -2.179, -2.188, -2.216, -2.234, -2.236, -2.262, -2.252, -2.285, -2.317, -2.365, -2.419, -2.504, -2.607, -2.728, -2.888, -3.104, -3.332, -3.606, -3.953, -4.363, -4.778, -5.255, -5.87, -6.49])\n",
    "m13_logsmf_sig = np.array([0.052, 0.048, 0.059, 0.052, 0.050, 0.053, 0.046, 0.051, 0.046, 0.048, 0.047, 0.045, 0.046, 0.049, 0.045, 0.046, 0.049, 0.049, 0.047, 0.046, 0.046, 0.043, 0.041, 0.042, 0.042, 0.047, 0.050, 0.057, 0.066, 0.1, 0.2])"
   ]
  },
  {
   "cell_type": "code",
   "execution_count": null,
   "id": "b14a6a59",
   "metadata": {},
   "outputs": [],
   "source": [
    "fig = plt.figure(figsize=(8,6))\n",
    "sub = fig.add_subplot(111)\n",
    "for i, zmin, zmax in zip(range(5), zmins, zmaxs):    \n",
    "    # calculate normalization\n",
    "    # Vmax based importance weights\n",
    "    zlim = (bgs['Z_HP'].data > zmin) & (bgs['Z_HP'].data < zmax)\n",
    "\n",
    "    v_zmin = Planck13.comoving_volume(zmin).value * Planck13.h**3 * f_area # (Mpc/h)^3\n",
    "    v_zmax = Planck13.comoving_volume(zmax).value * Planck13.h**3 * f_area# (Mpc/h)^3\n",
    "    \n",
    "    w_import = (v_zmax - v_zmin) / (vmaxes.clip(v_zmin, v_zmax) - v_zmin) \n",
    "    w_import *= bgs['provabgs_w_zfail'].data * bgs['provabgs_w_fibassign']\n",
    "\n",
    "    # calculate normalization\n",
    "    norm = np.sum(w_import[zlim]) / (v_zmax - v_zmin)\n",
    "    psmf_model = torch.load(os.path.join(dat_dir, 'psmf.gmm.bgs_bright.z%.2f_%.2f.best.pt' % (zmin, zmax)), \n",
    "                            map_location=device)\n",
    "    with torch.no_grad(): \n",
    "        post_prime = psmf_model.sample((100000,))\n",
    "\n",
    "    h, be = np.histogram(np.array(post_prime.detach().cpu()), \n",
    "                 weights=np.repeat(norm, 100000) / 100000, range=(6., 13.), bins=40)\n",
    "    \n",
    "    h_jack = []\n",
    "    for i_jack, field, A_field in zip(range(len(fields)), fields, A_fields): \n",
    "        # calculate normalization\n",
    "        zlim = (bgs['Z_HP'].data > zmin) & (bgs['Z_HP'].data < zmax) & ~field\n",
    "        norm = np.sum(w_import[zlim]) / ((v_zmax - v_zmin) / f_area * (A_field/(4.*np.pi*(180/np.pi)**2)))\n",
    "\n",
    "        fgmm = os.path.join(dat_dir, 'psmf.gmm.bgs_bright.z%.2f_%.2f.jack%i.best.pt' % (zmin, zmax, i_jack))\n",
    "        psmf_model = torch.load(fgmm, map_location=device)\n",
    "        with torch.no_grad(): \n",
    "            post_prime = psmf_model.sample((100000,))\n",
    "        _h, _ = np.histogram(np.array(post_prime.detach().cpu()), \n",
    "                             weights=np.repeat(norm, 100000) / 100000, range=(6., 13.), bins=40)\n",
    "        h_jack.append(_h)\n",
    "    h_jack = np.array(h_jack)\n",
    "    \n",
    "    #sub.plot(0.5*(be[:-1] + be[1:]), h, c='C%i' % i)\n",
    "    #for h_j in h_jack:\n",
    "    #    sub.plot(0.5*(be[:-1] + be[1:]), h_j, c='C%i' % i, ls='--')\n",
    "    sig_jack = np.sqrt(float(len(fields)-1)/float(len(fields)) * np.sum((h_jack - np.mean(h_jack, axis=0))**2, axis=0))\n",
    "        #_ = sub.hist(np.array(post_prime.detach().cpu()), range=(6., 13.), bins=40, \n",
    "        #             color='C%i' % i, histtype='step', linewidth=1)\n",
    "    #sub.errorbar(0.5*(be[:-1] + be[1:]), h, yerr=sig_jack, c='C%i' % i)\n",
    "    \n",
    "    np.savetxt(os.path.join(dat_dir, 'psmf.sv3.bgs_bright.z%.2f_%.2f.dat' % (zmin, zmax)),\n",
    "              np.array([0.5*(be[:-1] + be[1:]), h, sig_jack]).T, \n",
    "              header='log stellar mass completeness limit %.2f' % mlim[2*i+1])\n",
    "    \n",
    "    sub.plot(0.5*(be[:-1] + be[1:]), h, color='C%i' % i, ls='--')\n",
    "    sub.plot(0.5*(be[:-1] + be[1:])[be[:-1] > mlim[2*i+1]], h[be[:-1] > mlim[2*i+1]], c='C%i' % i, ls='-')\n",
    "    sub.fill_between(0.5*(be[:-1] + be[1:]), h-sig_jack, h+sig_jack, color='C%i' % i, edgecolor='none', alpha=0.5)\n",
    "    sub.plot([], [], c='C%i' % i, label='$%.2f < z < %.2f$' % (zmin, zmax))\n",
    "    \n",
    "    #sub.step(be[:-1], h, where='pre', color='C%i' % i, linestyle='--')\n",
    "    #sub.step(be[:-1][be[:-1] > mlim[2*i+1]], h[be[:-1] > mlim[2*i+1]], where='pre', color='C%i' % i, linestyle='-')\n",
    "sub.errorbar(m13_logms, 10**m13_logsmf, \n",
    "             yerr=[10**m13_logsmf - 10**(m13_logsmf - m13_logsmf_sig), 10**(m13_logsmf + m13_logsmf_sig) - 10**m13_logsmf],\n",
    "             fmt='.k', markersize=3, label='Moustakas+(2013) SDSS')\n",
    "\n",
    "sub.legend(loc='lower left', fontsize=20, markerscale=5, frameon=True)\n",
    "sub.set_xlabel(r'$\\log M_*$  [$M_\\odot$]', fontsize=25)\n",
    "sub.set_xlim(7., 12.5)\n",
    "sub.set_ylabel(r'$p(\\log M_*)$  [$({\\rm Mpc}/h)^{-3}{\\rm dex}^{-1}$]', fontsize=25)\n",
    "sub.set_yscale('log')\n",
    "sub.set_ylim(5e-7, 4e-2)\n",
    "sub.text(0.95, 0.95, r'1\\% of BGS', ha='right', va='top', fontsize=30, transform=sub.transAxes)\n",
    "plt.show()"
   ]
  },
  {
   "cell_type": "code",
   "execution_count": null,
   "id": "ea12a6c2",
   "metadata": {},
   "outputs": [],
   "source": []
  }
 ],
 "metadata": {
  "kernelspec": {
   "display_name": "sbi",
   "language": "python",
   "name": "sbi"
  },
  "language_info": {
   "codemirror_mode": {
    "name": "ipython",
    "version": 3
   },
   "file_extension": ".py",
   "mimetype": "text/x-python",
   "name": "python",
   "nbconvert_exporter": "python",
   "pygments_lexer": "ipython3",
   "version": "3.7.10"
  }
 },
 "nbformat": 4,
 "nbformat_minor": 5
}
